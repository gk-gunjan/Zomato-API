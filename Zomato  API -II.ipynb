{
 "cells": [
  {
   "cell_type": "markdown",
   "metadata": {},
   "source": [
    "## Zomato API 2        \n",
    " Date- 16/03/2021"
   ]
  },
  {
   "cell_type": "markdown",
   "metadata": {},
   "source": [
    "### API Project Details\n",
    "\n",
    "In this section, you need to try to find out answer to the given questions using the solutions you have done in Part 1 or you might need to write code to find the answers.\n",
    "\n",
    "Find out the answer, justify them using proper plots and numbers and place them all in a pdf file and upload.\n",
    "\n",
    "Find out answer for each question, put your answer along with the proper explanation and plots in a pdf file. Make a zip file of your pdf file and .ipynb file which is having code, and upload that.\n",
    "\n",
    "Your report will be evaluated manually and score will be awarded accordingly."
   ]
  },
  {
   "cell_type": "markdown",
   "metadata": {},
   "source": [
    " #### Dataset Collection -\n",
    "Due to Zomato API Basic Plan restriction, we cannot collect enough data for analysis. To overcome this problem ‘Zomato.csv’ file is provided to analyse the data deeply and to get useful inference."
   ]
  },
  {
   "cell_type": "markdown",
   "metadata": {},
   "source": [
    "#### Zomato Dataset Details\n",
    "\n",
    "Dataset Collection -\n",
    "Due to Zomato API Basic Plan restriction, we cannot collect enough data for analysis. To overcome this problem ‘Zomato.csv’ file is provided to analyse the data deeply and to get useful inference.\n",
    "Data has been collected from the Zomato API in the form of .json files(raw data) using the following url and stored in CSV file -\n",
    "https://developers.zomato.com/api/v2.1/search?entity_id=1&entity_type=city&start=1&count=20 "
   ]
  },
  {
   "cell_type": "markdown",
   "metadata": {},
   "source": [
    "#### Importing Libraries"
   ]
  },
  {
   "cell_type": "code",
   "execution_count": 1,
   "metadata": {},
   "outputs": [],
   "source": [
    "import pandas as pd\n",
    "import numpy as np\n",
    "import matplotlib.pyplot as plt"
   ]
  },
  {
   "cell_type": "code",
   "execution_count": 2,
   "metadata": {},
   "outputs": [],
   "source": [
    "data=pd.read_csv('zomato.csv',encoding='ISO-8859-1')\n",
    "df=data.copy()\n"
   ]
  },
  {
   "cell_type": "markdown",
   "metadata": {},
   "source": [
    "#### Accessing Data from csv"
   ]
  },
  {
   "cell_type": "code",
   "execution_count": 3,
   "metadata": {},
   "outputs": [
    {
     "data": {
      "text/html": [
       "<div>\n",
       "<style scoped>\n",
       "    .dataframe tbody tr th:only-of-type {\n",
       "        vertical-align: middle;\n",
       "    }\n",
       "\n",
       "    .dataframe tbody tr th {\n",
       "        vertical-align: top;\n",
       "    }\n",
       "\n",
       "    .dataframe thead th {\n",
       "        text-align: right;\n",
       "    }\n",
       "</style>\n",
       "<table border=\"1\" class=\"dataframe\">\n",
       "  <thead>\n",
       "    <tr style=\"text-align: right;\">\n",
       "      <th></th>\n",
       "      <th>Restaurant ID</th>\n",
       "      <th>Restaurant Name</th>\n",
       "      <th>Country Code</th>\n",
       "      <th>City</th>\n",
       "      <th>Address</th>\n",
       "      <th>Locality</th>\n",
       "      <th>Locality Verbose</th>\n",
       "      <th>Longitude</th>\n",
       "      <th>Latitude</th>\n",
       "      <th>Cuisines</th>\n",
       "      <th>...</th>\n",
       "      <th>Currency</th>\n",
       "      <th>Has Table booking</th>\n",
       "      <th>Has Online delivery</th>\n",
       "      <th>Is delivering now</th>\n",
       "      <th>Switch to order menu</th>\n",
       "      <th>Price range</th>\n",
       "      <th>Aggregate rating</th>\n",
       "      <th>Rating color</th>\n",
       "      <th>Rating text</th>\n",
       "      <th>Votes</th>\n",
       "    </tr>\n",
       "  </thead>\n",
       "  <tbody>\n",
       "    <tr>\n",
       "      <th>0</th>\n",
       "      <td>6317637</td>\n",
       "      <td>Le Petit Souffle</td>\n",
       "      <td>162</td>\n",
       "      <td>Makati City</td>\n",
       "      <td>Third Floor, Century City Mall, Kalayaan Avenu...</td>\n",
       "      <td>Century City Mall, Poblacion, Makati City</td>\n",
       "      <td>Century City Mall, Poblacion, Makati City, Mak...</td>\n",
       "      <td>121.027535</td>\n",
       "      <td>14.565443</td>\n",
       "      <td>French, Japanese, Desserts</td>\n",
       "      <td>...</td>\n",
       "      <td>Botswana Pula(P)</td>\n",
       "      <td>Yes</td>\n",
       "      <td>No</td>\n",
       "      <td>No</td>\n",
       "      <td>No</td>\n",
       "      <td>3</td>\n",
       "      <td>4.8</td>\n",
       "      <td>Dark Green</td>\n",
       "      <td>Excellent</td>\n",
       "      <td>314</td>\n",
       "    </tr>\n",
       "    <tr>\n",
       "      <th>1</th>\n",
       "      <td>6304287</td>\n",
       "      <td>Izakaya Kikufuji</td>\n",
       "      <td>162</td>\n",
       "      <td>Makati City</td>\n",
       "      <td>Little Tokyo, 2277 Chino Roces Avenue, Legaspi...</td>\n",
       "      <td>Little Tokyo, Legaspi Village, Makati City</td>\n",
       "      <td>Little Tokyo, Legaspi Village, Makati City, Ma...</td>\n",
       "      <td>121.014101</td>\n",
       "      <td>14.553708</td>\n",
       "      <td>Japanese</td>\n",
       "      <td>...</td>\n",
       "      <td>Botswana Pula(P)</td>\n",
       "      <td>Yes</td>\n",
       "      <td>No</td>\n",
       "      <td>No</td>\n",
       "      <td>No</td>\n",
       "      <td>3</td>\n",
       "      <td>4.5</td>\n",
       "      <td>Dark Green</td>\n",
       "      <td>Excellent</td>\n",
       "      <td>591</td>\n",
       "    </tr>\n",
       "    <tr>\n",
       "      <th>2</th>\n",
       "      <td>6300002</td>\n",
       "      <td>Heat - Edsa Shangri-La</td>\n",
       "      <td>162</td>\n",
       "      <td>Mandaluyong City</td>\n",
       "      <td>Edsa Shangri-La, 1 Garden Way, Ortigas, Mandal...</td>\n",
       "      <td>Edsa Shangri-La, Ortigas, Mandaluyong City</td>\n",
       "      <td>Edsa Shangri-La, Ortigas, Mandaluyong City, Ma...</td>\n",
       "      <td>121.056831</td>\n",
       "      <td>14.581404</td>\n",
       "      <td>Seafood, Asian, Filipino, Indian</td>\n",
       "      <td>...</td>\n",
       "      <td>Botswana Pula(P)</td>\n",
       "      <td>Yes</td>\n",
       "      <td>No</td>\n",
       "      <td>No</td>\n",
       "      <td>No</td>\n",
       "      <td>4</td>\n",
       "      <td>4.4</td>\n",
       "      <td>Green</td>\n",
       "      <td>Very Good</td>\n",
       "      <td>270</td>\n",
       "    </tr>\n",
       "    <tr>\n",
       "      <th>3</th>\n",
       "      <td>6318506</td>\n",
       "      <td>Ooma</td>\n",
       "      <td>162</td>\n",
       "      <td>Mandaluyong City</td>\n",
       "      <td>Third Floor, Mega Fashion Hall, SM Megamall, O...</td>\n",
       "      <td>SM Megamall, Ortigas, Mandaluyong City</td>\n",
       "      <td>SM Megamall, Ortigas, Mandaluyong City, Mandal...</td>\n",
       "      <td>121.056475</td>\n",
       "      <td>14.585318</td>\n",
       "      <td>Japanese, Sushi</td>\n",
       "      <td>...</td>\n",
       "      <td>Botswana Pula(P)</td>\n",
       "      <td>No</td>\n",
       "      <td>No</td>\n",
       "      <td>No</td>\n",
       "      <td>No</td>\n",
       "      <td>4</td>\n",
       "      <td>4.9</td>\n",
       "      <td>Dark Green</td>\n",
       "      <td>Excellent</td>\n",
       "      <td>365</td>\n",
       "    </tr>\n",
       "    <tr>\n",
       "      <th>4</th>\n",
       "      <td>6314302</td>\n",
       "      <td>Sambo Kojin</td>\n",
       "      <td>162</td>\n",
       "      <td>Mandaluyong City</td>\n",
       "      <td>Third Floor, Mega Atrium, SM Megamall, Ortigas...</td>\n",
       "      <td>SM Megamall, Ortigas, Mandaluyong City</td>\n",
       "      <td>SM Megamall, Ortigas, Mandaluyong City, Mandal...</td>\n",
       "      <td>121.057508</td>\n",
       "      <td>14.584450</td>\n",
       "      <td>Japanese, Korean</td>\n",
       "      <td>...</td>\n",
       "      <td>Botswana Pula(P)</td>\n",
       "      <td>Yes</td>\n",
       "      <td>No</td>\n",
       "      <td>No</td>\n",
       "      <td>No</td>\n",
       "      <td>4</td>\n",
       "      <td>4.8</td>\n",
       "      <td>Dark Green</td>\n",
       "      <td>Excellent</td>\n",
       "      <td>229</td>\n",
       "    </tr>\n",
       "  </tbody>\n",
       "</table>\n",
       "<p>5 rows × 21 columns</p>\n",
       "</div>"
      ],
      "text/plain": [
       "   Restaurant ID         Restaurant Name  Country Code              City  \\\n",
       "0        6317637        Le Petit Souffle           162       Makati City   \n",
       "1        6304287        Izakaya Kikufuji           162       Makati City   \n",
       "2        6300002  Heat - Edsa Shangri-La           162  Mandaluyong City   \n",
       "3        6318506                    Ooma           162  Mandaluyong City   \n",
       "4        6314302             Sambo Kojin           162  Mandaluyong City   \n",
       "\n",
       "                                             Address  \\\n",
       "0  Third Floor, Century City Mall, Kalayaan Avenu...   \n",
       "1  Little Tokyo, 2277 Chino Roces Avenue, Legaspi...   \n",
       "2  Edsa Shangri-La, 1 Garden Way, Ortigas, Mandal...   \n",
       "3  Third Floor, Mega Fashion Hall, SM Megamall, O...   \n",
       "4  Third Floor, Mega Atrium, SM Megamall, Ortigas...   \n",
       "\n",
       "                                     Locality  \\\n",
       "0   Century City Mall, Poblacion, Makati City   \n",
       "1  Little Tokyo, Legaspi Village, Makati City   \n",
       "2  Edsa Shangri-La, Ortigas, Mandaluyong City   \n",
       "3      SM Megamall, Ortigas, Mandaluyong City   \n",
       "4      SM Megamall, Ortigas, Mandaluyong City   \n",
       "\n",
       "                                    Locality Verbose   Longitude   Latitude  \\\n",
       "0  Century City Mall, Poblacion, Makati City, Mak...  121.027535  14.565443   \n",
       "1  Little Tokyo, Legaspi Village, Makati City, Ma...  121.014101  14.553708   \n",
       "2  Edsa Shangri-La, Ortigas, Mandaluyong City, Ma...  121.056831  14.581404   \n",
       "3  SM Megamall, Ortigas, Mandaluyong City, Mandal...  121.056475  14.585318   \n",
       "4  SM Megamall, Ortigas, Mandaluyong City, Mandal...  121.057508  14.584450   \n",
       "\n",
       "                           Cuisines  ...          Currency Has Table booking  \\\n",
       "0        French, Japanese, Desserts  ...  Botswana Pula(P)               Yes   \n",
       "1                          Japanese  ...  Botswana Pula(P)               Yes   \n",
       "2  Seafood, Asian, Filipino, Indian  ...  Botswana Pula(P)               Yes   \n",
       "3                   Japanese, Sushi  ...  Botswana Pula(P)                No   \n",
       "4                  Japanese, Korean  ...  Botswana Pula(P)               Yes   \n",
       "\n",
       "  Has Online delivery Is delivering now Switch to order menu Price range  \\\n",
       "0                  No                No                   No           3   \n",
       "1                  No                No                   No           3   \n",
       "2                  No                No                   No           4   \n",
       "3                  No                No                   No           4   \n",
       "4                  No                No                   No           4   \n",
       "\n",
       "   Aggregate rating  Rating color Rating text Votes  \n",
       "0               4.8    Dark Green   Excellent   314  \n",
       "1               4.5    Dark Green   Excellent   591  \n",
       "2               4.4         Green   Very Good   270  \n",
       "3               4.9    Dark Green   Excellent   365  \n",
       "4               4.8    Dark Green   Excellent   229  \n",
       "\n",
       "[5 rows x 21 columns]"
      ]
     },
     "execution_count": 3,
     "metadata": {},
     "output_type": "execute_result"
    }
   ],
   "source": [
    "df.head()"
   ]
  },
  {
   "cell_type": "code",
   "execution_count": 4,
   "metadata": {},
   "outputs": [
    {
     "name": "stdout",
     "output_type": "stream",
     "text": [
      "<class 'pandas.core.frame.DataFrame'>\n",
      "RangeIndex: 9551 entries, 0 to 9550\n",
      "Data columns (total 21 columns):\n",
      " #   Column                Non-Null Count  Dtype  \n",
      "---  ------                --------------  -----  \n",
      " 0   Restaurant ID         9551 non-null   int64  \n",
      " 1   Restaurant Name       9551 non-null   object \n",
      " 2   Country Code          9551 non-null   int64  \n",
      " 3   City                  9551 non-null   object \n",
      " 4   Address               9551 non-null   object \n",
      " 5   Locality              9551 non-null   object \n",
      " 6   Locality Verbose      9551 non-null   object \n",
      " 7   Longitude             9551 non-null   float64\n",
      " 8   Latitude              9551 non-null   float64\n",
      " 9   Cuisines              9542 non-null   object \n",
      " 10  Average Cost for two  9551 non-null   int64  \n",
      " 11  Currency              9551 non-null   object \n",
      " 12  Has Table booking     9551 non-null   object \n",
      " 13  Has Online delivery   9551 non-null   object \n",
      " 14  Is delivering now     9551 non-null   object \n",
      " 15  Switch to order menu  9551 non-null   object \n",
      " 16  Price range           9551 non-null   int64  \n",
      " 17  Aggregate rating      9551 non-null   float64\n",
      " 18  Rating color          9551 non-null   object \n",
      " 19  Rating text           9551 non-null   object \n",
      " 20  Votes                 9551 non-null   int64  \n",
      "dtypes: float64(3), int64(5), object(13)\n",
      "memory usage: 1.5+ MB\n"
     ]
    }
   ],
   "source": [
    "df.info()"
   ]
  },
  {
   "cell_type": "code",
   "execution_count": 5,
   "metadata": {},
   "outputs": [
    {
     "data": {
      "text/plain": [
       "(9551, 21)"
      ]
     },
     "execution_count": 5,
     "metadata": {},
     "output_type": "execute_result"
    }
   ],
   "source": [
    "df.shape"
   ]
  },
  {
   "cell_type": "markdown",
   "metadata": {},
   "source": [
    "#### checking null values"
   ]
  },
  {
   "cell_type": "code",
   "execution_count": 6,
   "metadata": {},
   "outputs": [
    {
     "data": {
      "text/plain": [
       "Restaurant ID           0\n",
       "Restaurant Name         0\n",
       "Country Code            0\n",
       "City                    0\n",
       "Address                 0\n",
       "Locality                0\n",
       "Locality Verbose        0\n",
       "Longitude               0\n",
       "Latitude                0\n",
       "Cuisines                9\n",
       "Average Cost for two    0\n",
       "Currency                0\n",
       "Has Table booking       0\n",
       "Has Online delivery     0\n",
       "Is delivering now       0\n",
       "Switch to order menu    0\n",
       "Price range             0\n",
       "Aggregate rating        0\n",
       "Rating color            0\n",
       "Rating text             0\n",
       "Votes                   0\n",
       "dtype: int64"
      ]
     },
     "execution_count": 6,
     "metadata": {},
     "output_type": "execute_result"
    }
   ],
   "source": [
    "df.isnull().sum()"
   ]
  },
  {
   "cell_type": "markdown",
   "metadata": {},
   "source": [
    "#### checking unique cities"
   ]
  },
  {
   "cell_type": "code",
   "execution_count": 7,
   "metadata": {},
   "outputs": [
    {
     "data": {
      "text/plain": [
       "array(['Makati City', 'Mandaluyong City', 'Pasay City', 'Pasig City',\n",
       "       'Quezon City', 'San Juan City', 'Santa Rosa', 'Tagaytay City',\n",
       "       'Taguig City', 'Brasí_lia', 'Rio de Janeiro', 'Sí£o Paulo',\n",
       "       'Albany', 'Armidale', 'Athens', 'Augusta', 'Balingup',\n",
       "       'Beechworth', 'Boise', 'Cedar Rapids/Iowa City', 'Chatham-Kent',\n",
       "       'Clatskanie', 'Cochrane', 'Columbus', 'Consort', 'Dalton',\n",
       "       'Davenport', 'Des Moines', 'Dicky Beach', 'Dubuque',\n",
       "       'East Ballina', 'Fernley', 'Flaxton', 'Forrest', 'Gainesville',\n",
       "       'Hepburn Springs', 'Huskisson', 'Inverloch', 'Lakes Entrance',\n",
       "       'Lakeview', 'Lincoln', 'Lorn', 'Macedon', 'Macon', 'Mayfield',\n",
       "       'Mc Millan', 'Middleton Beach', 'Miller', 'Monroe', 'Montville',\n",
       "       'Ojo Caliente', 'Orlando', 'Palm Cove', 'Paynesville', 'Penola',\n",
       "       'Pensacola', 'Phillip Island', 'Pocatello', 'Potrero', 'Princeton',\n",
       "       'Rest of Hawaii', 'Savannah', 'Singapore', 'Sioux City',\n",
       "       'Tampa Bay', 'Tanunda', 'Trentham East', 'Valdosta', 'Vernonia',\n",
       "       'Victor Harbor', 'Vineland Station', 'Waterloo', 'Weirton',\n",
       "       'Winchester Bay', 'Yorkton', 'Abu Dhabi', 'Dubai', 'Sharjah',\n",
       "       'Agra', 'Ahmedabad', 'Allahabad', 'Amritsar', 'Aurangabad',\n",
       "       'Bangalore', 'Bhopal', 'Bhubaneshwar', 'Chandigarh', 'Chennai',\n",
       "       'Coimbatore', 'Dehradun', 'Faridabad', 'Ghaziabad', 'Goa',\n",
       "       'Gurgaon', 'Guwahati', 'Hyderabad', 'Indore', 'Jaipur', 'Kanpur',\n",
       "       'Kochi', 'Kolkata', 'Lucknow', 'Ludhiana', 'Mangalore', 'Mohali',\n",
       "       'Mumbai', 'Mysore', 'Nagpur', 'Nashik', 'New Delhi', 'Noida',\n",
       "       'Panchkula', 'Patna', 'Puducherry', 'Pune', 'Ranchi',\n",
       "       'Secunderabad', 'Surat', 'Vadodara', 'Varanasi', 'Vizag',\n",
       "       'Bandung', 'Bogor', 'Jakarta', 'Tangerang', 'Auckland',\n",
       "       'Wellington City', 'Birmingham', 'Edinburgh', 'London',\n",
       "       'Manchester', 'Doha', 'Cape Town', 'Inner City', 'Johannesburg',\n",
       "       'Pretoria', 'Randburg', 'Sandton', 'Colombo', 'Ankara',\n",
       "       'ÛÁstanbul'], dtype=object)"
      ]
     },
     "execution_count": 7,
     "metadata": {},
     "output_type": "execute_result"
    }
   ],
   "source": [
    "df.City.unique()"
   ]
  },
  {
   "cell_type": "markdown",
   "metadata": {},
   "source": [
    "#### cleaning data which are not in use to showcase less data"
   ]
  },
  {
   "cell_type": "code",
   "execution_count": 8,
   "metadata": {},
   "outputs": [
    {
     "data": {
      "text/plain": [
       "Index(['Restaurant ID', 'Restaurant Name', 'Country Code', 'City', 'Address',\n",
       "       'Locality', 'Locality Verbose', 'Longitude', 'Latitude', 'Cuisines',\n",
       "       'Average Cost for two', 'Currency', 'Has Table booking',\n",
       "       'Has Online delivery', 'Is delivering now', 'Switch to order menu',\n",
       "       'Price range', 'Aggregate rating', 'Rating color', 'Rating text',\n",
       "       'Votes'],\n",
       "      dtype='object')"
      ]
     },
     "execution_count": 8,
     "metadata": {},
     "output_type": "execute_result"
    }
   ],
   "source": [
    "df.columns"
   ]
  },
  {
   "cell_type": "code",
   "execution_count": 9,
   "metadata": {},
   "outputs": [],
   "source": [
    "df.drop(['Has Table booking','Currency','Is delivering now','Longitude','Latitude','Has Online delivery','Switch to order menu','Rating color'],axis=1,inplace=True)"
   ]
  },
  {
   "cell_type": "code",
   "execution_count": 10,
   "metadata": {},
   "outputs": [
    {
     "name": "stdout",
     "output_type": "stream",
     "text": [
      "<class 'pandas.core.frame.DataFrame'>\n",
      "RangeIndex: 9551 entries, 0 to 9550\n",
      "Data columns (total 13 columns):\n",
      " #   Column                Non-Null Count  Dtype  \n",
      "---  ------                --------------  -----  \n",
      " 0   Restaurant ID         9551 non-null   int64  \n",
      " 1   Restaurant Name       9551 non-null   object \n",
      " 2   Country Code          9551 non-null   int64  \n",
      " 3   City                  9551 non-null   object \n",
      " 4   Address               9551 non-null   object \n",
      " 5   Locality              9551 non-null   object \n",
      " 6   Locality Verbose      9551 non-null   object \n",
      " 7   Cuisines              9542 non-null   object \n",
      " 8   Average Cost for two  9551 non-null   int64  \n",
      " 9   Price range           9551 non-null   int64  \n",
      " 10  Aggregate rating      9551 non-null   float64\n",
      " 11  Rating text           9551 non-null   object \n",
      " 12  Votes                 9551 non-null   int64  \n",
      "dtypes: float64(1), int64(5), object(7)\n",
      "memory usage: 970.1+ KB\n"
     ]
    }
   ],
   "source": [
    "df.info()"
   ]
  },
  {
   "cell_type": "code",
   "execution_count": 11,
   "metadata": {},
   "outputs": [
    {
     "data": {
      "text/plain": [
       "(9551, 13)"
      ]
     },
     "execution_count": 11,
     "metadata": {},
     "output_type": "execute_result"
    }
   ],
   "source": [
    "df.shape"
   ]
  },
  {
   "cell_type": "markdown",
   "metadata": {},
   "source": [
    "### Considering only Indian States in the dataset"
   ]
  },
  {
   "cell_type": "code",
   "execution_count": 12,
   "metadata": {},
   "outputs": [],
   "source": [
    "df=df[df['Country Code']==1]\n",
    "df.reset_index(drop=True,inplace=True)"
   ]
  },
  {
   "cell_type": "code",
   "execution_count": 13,
   "metadata": {},
   "outputs": [
    {
     "data": {
      "text/plain": [
       "array(['Agra', 'Ahmedabad', 'Allahabad', 'Amritsar', 'Aurangabad',\n",
       "       'Bangalore', 'Bhopal', 'Bhubaneshwar', 'Chandigarh', 'Chennai',\n",
       "       'Coimbatore', 'Dehradun', 'Faridabad', 'Ghaziabad', 'Goa',\n",
       "       'Gurgaon', 'Guwahati', 'Hyderabad', 'Indore', 'Jaipur', 'Kanpur',\n",
       "       'Kochi', 'Kolkata', 'Lucknow', 'Ludhiana', 'Mangalore', 'Mohali',\n",
       "       'Mumbai', 'Mysore', 'Nagpur', 'Nashik', 'New Delhi', 'Noida',\n",
       "       'Panchkula', 'Patna', 'Puducherry', 'Pune', 'Ranchi',\n",
       "       'Secunderabad', 'Surat', 'Vadodara', 'Varanasi', 'Vizag'],\n",
       "      dtype=object)"
      ]
     },
     "execution_count": 13,
     "metadata": {},
     "output_type": "execute_result"
    }
   ],
   "source": [
    "df.City.unique()"
   ]
  },
  {
   "cell_type": "code",
   "execution_count": 14,
   "metadata": {},
   "outputs": [
    {
     "data": {
      "text/plain": [
       "0       1\n",
       "1       1\n",
       "2       1\n",
       "3       1\n",
       "4       1\n",
       "       ..\n",
       "8647    1\n",
       "8648    1\n",
       "8649    1\n",
       "8650    1\n",
       "8651    1\n",
       "Name: Country Code, Length: 8652, dtype: int64"
      ]
     },
     "execution_count": 14,
     "metadata": {},
     "output_type": "execute_result"
    }
   ],
   "source": [
    "df['Country Code']"
   ]
  },
  {
   "cell_type": "markdown",
   "metadata": {},
   "source": [
    "###  Question 1"
   ]
  },
  {
   "cell_type": "markdown",
   "metadata": {},
   "source": [
    "The dataset is highly skewed toward the cities included in Delhi-NCR. So, we will summarise all the other cities in Rest of India while those in New Delhi, Ghaziabad, Noida, Gurgaon, Faridabad to Delhi-NCR. Doing this would make our analysis turn toward Delhi-NCR v Rest of India."
   ]
  },
  {
   "cell_type": "code",
   "execution_count": 15,
   "metadata": {},
   "outputs": [],
   "source": [
    "df['City'].replace('New Delhi','Delhi-NCR',inplace=True)\n",
    "df['City'].replace('Ghaziabad','Delhi-NCR',inplace=True)\n",
    "df['City'].replace('Noida','Delhi-NCR',inplace=True)\n",
    "df['City'].replace('Gurgaon','Delhi-NCR',inplace=True)\n",
    "df['City'].replace('Faridabad','Delhi-NCR',inplace=True)"
   ]
  },
  {
   "cell_type": "code",
   "execution_count": 16,
   "metadata": {},
   "outputs": [
    {
     "data": {
      "text/plain": [
       "array(['Agra', 'Ahmedabad', 'Allahabad', 'Amritsar', 'Aurangabad',\n",
       "       'Bangalore', 'Bhopal', 'Bhubaneshwar', 'Chandigarh', 'Chennai',\n",
       "       'Coimbatore', 'Dehradun', 'Delhi-NCR', 'Goa', 'Guwahati',\n",
       "       'Hyderabad', 'Indore', 'Jaipur', 'Kanpur', 'Kochi', 'Kolkata',\n",
       "       'Lucknow', 'Ludhiana', 'Mangalore', 'Mohali', 'Mumbai', 'Mysore',\n",
       "       'Nagpur', 'Nashik', 'Panchkula', 'Patna', 'Puducherry', 'Pune',\n",
       "       'Ranchi', 'Secunderabad', 'Surat', 'Vadodara', 'Varanasi', 'Vizag'],\n",
       "      dtype=object)"
      ]
     },
     "execution_count": 16,
     "metadata": {},
     "output_type": "execute_result"
    }
   ],
   "source": [
    "df.City.unique()"
   ]
  },
  {
   "cell_type": "markdown",
   "metadata": {},
   "source": [
    "#### Replacing rest of the cities with Rest Column name"
   ]
  },
  {
   "cell_type": "code",
   "execution_count": 17,
   "metadata": {},
   "outputs": [],
   "source": [
    "index=df[df['City']!='Delhi-NCR'].index"
   ]
  },
  {
   "cell_type": "code",
   "execution_count": 18,
   "metadata": {},
   "outputs": [
    {
     "data": {
      "text/plain": [
       "Int64Index([   0,    1,    2,    3,    4,    5,    6,    7,    8,    9,\n",
       "            ...\n",
       "            8642, 8643, 8644, 8645, 8646, 8647, 8648, 8649, 8650, 8651],\n",
       "           dtype='int64', length=705)"
      ]
     },
     "execution_count": 18,
     "metadata": {},
     "output_type": "execute_result"
    }
   ],
   "source": [
    "index"
   ]
  },
  {
   "cell_type": "code",
   "execution_count": 19,
   "metadata": {},
   "outputs": [],
   "source": [
    "# at particular location where cities name is not in delhi-ncr change it to Rest\n",
    "df.loc[index,'City']='Rest'"
   ]
  },
  {
   "cell_type": "code",
   "execution_count": 20,
   "metadata": {},
   "outputs": [
    {
     "data": {
      "text/plain": [
       "array(['Rest', 'Delhi-NCR'], dtype=object)"
      ]
     },
     "execution_count": 20,
     "metadata": {},
     "output_type": "execute_result"
    }
   ],
   "source": [
    "df.City.unique()\n",
    "#checking"
   ]
  },
  {
   "cell_type": "markdown",
   "metadata": {},
   "source": [
    "### 1 .1 Plot the bar graph of number of restaurants present in Delhi NCR vs Rest of India."
   ]
  },
  {
   "cell_type": "code",
   "execution_count": 21,
   "metadata": {},
   "outputs": [
    {
     "data": {
      "text/plain": [
       "Delhi-NCR    7947\n",
       "Rest          705\n",
       "Name: City, dtype: int64"
      ]
     },
     "execution_count": 21,
     "metadata": {},
     "output_type": "execute_result"
    }
   ],
   "source": [
    "d=df.City.value_counts()\n",
    "d"
   ]
  },
  {
   "cell_type": "code",
   "execution_count": 22,
   "metadata": {},
   "outputs": [],
   "source": [
    "x_axis=df.City.value_counts().index\n",
    "y_axis=df.City.value_counts().values"
   ]
  },
  {
   "cell_type": "code",
   "execution_count": 23,
   "metadata": {},
   "outputs": [
    {
     "name": "stdout",
     "output_type": "stream",
     "text": [
      "Number of restaurants present in Delhi NCR : 7947\n",
      "Number of restaurants present in Rest of India : 705\n"
     ]
    }
   ],
   "source": [
    "print('Number of restaurants present in Delhi NCR :',y_axis[0])\n",
    "print('Number of restaurants present in Rest of India :',y_axis[1])"
   ]
  },
  {
   "cell_type": "code",
   "execution_count": 24,
   "metadata": {},
   "outputs": [
    {
     "data": {
      "image/png": "[encoded data removed]",
      "text/plain": [
       "<Figure size 432x288 with 1 Axes>"
      ]
     },
     "metadata": {
      "needs_background": "light"
     },
     "output_type": "display_data"
    },
    {
     "data": {
      "image/png": "[encoded data removed]",
      "text/plain": [
       "<Figure size 432x288 with 1 Axes>"
      ]
     },
     "metadata": {},
     "output_type": "display_data"
    }
   ],
   "source": [
    "colors=['green','yellow']\n",
    "plt.bar(x_axis,y_axis,color=colors)\n",
    "plt.ylabel(\"No. of restraunts\")\n",
    "plt.xlabel(\"Region of India\")\n",
    "plt.title(\"No. Of Restraunts in India\")\n",
    "plt.show()\n",
    "colors=[\"purple\",\"pink\"]\n",
    "plt.pie(y_axis,labels =x_axis,explode=[0,0.15],colors=colors,startangle=90,shadow=True,autopct = \"%.2f\")\n",
    "plt.show()\n"
   ]
  },
  {
   "cell_type": "markdown",
   "metadata": {},
   "source": [
    "### 1.2 Find the cuisines which are not present in restaurant of Delhi NCR but present in rest of India.\n",
    "Check using Zomato API whether this cuisines are actually not served in restaurants of Delhi-NCR or just it due to incomplete dataset."
   ]
  },
  {
   "cell_type": "code",
   "execution_count": 96,
   "metadata": {},
   "outputs": [],
   "source": [
    "delhi=[]\n",
    "other=[]"
   ]
  },
  {
   "cell_type": "code",
   "execution_count": 97,
   "metadata": {},
   "outputs": [],
   "source": [
    "for i in range(len(df.City)):\n",
    "    if df['City'][i]=='Delhi-NCR':\n",
    "        if ',' in df['Cuisines'][i]:\n",
    "            cu=df['Cuisines'][i].split(',')\n",
    "            for j in cu:\n",
    "                delhi.append(j.strip())\n",
    "        else:\n",
    "            delhi.append(df['Cuisines'][i])\n",
    "    else:\n",
    "        if ',' in df['Cuisines'][i]:\n",
    "            cu=df['Cuisines'][i].split(',')\n",
    "            for j in cu:\n",
    "                other.append(j.strip())\n",
    "        else:\n",
    "            other.append(df['Cuisines'][i])\n",
    "            "
   ]
  },
  {
   "cell_type": "code",
   "execution_count": 98,
   "metadata": {},
   "outputs": [
    {
     "data": {
      "text/plain": [
       "{'BBQ', 'Cajun', 'German', 'Malwani'}"
      ]
     },
     "execution_count": 98,
     "metadata": {},
     "output_type": "execute_result"
    }
   ],
   "source": [
    "delhi_s=set(delhi) #set uniques value of cuisines of dehi-ncr\n",
    "other_s=set(other) #set uniques cuisines of other restro\n",
    "common=other_s-delhi_s #get unique other restro whic are not in delhi-ncr but in rest of india \n",
    "common"
   ]
  },
  {
   "cell_type": "code",
   "execution_count": 100,
   "metadata": {},
   "outputs": [],
   "source": [
    "# now checking with zomato api which restro data is present or not \n",
    "import requests\n",
    "import json"
   ]
  },
  {
   "cell_type": "code",
   "execution_count": 101,
   "metadata": {},
   "outputs": [
    {
     "data": {
      "text/plain": [
       "[{'entity_type': 'zone',\n",
       "  'entity_id': 501,\n",
       "  'title': 'Faridabad',\n",
       "  'latitude': 28.3956,\n",
       "  'longitude': 77.319399,\n",
       "  'city_id': 1,\n",
       "  'city_name': 'Delhi NCR',\n",
       "  'country_id': 1,\n",
       "  'country_name': 'India'}]"
      ]
     },
     "execution_count": 101,
     "metadata": {},
     "output_type": "execute_result"
    }
   ],
   "source": [
    "head = {\"user-key\":\"cf1194b048c4e62fcccfc0f02638d919\"}\n",
    "city=['New Delhi', 'Ghaziabad', 'Noida', 'Gurgaon', 'Faridabad']\n",
    "cities=set()\n",
    "for i in city:\n",
    "    p={'query':i}\n",
    "    h=requests.get(\"https://developers.zomato.com/api/v2.1/locations\",headers=head,params=p)\n",
    "    data=h.json()\n",
    "    d1=data['location_suggestions']\n",
    "d1"
   ]
  },
  {
   "cell_type": "code",
   "execution_count": 63,
   "metadata": {},
   "outputs": [],
   "source": [
    "# from the above data set and from the api we are getting only the city id of Faridabad "
   ]
  },
  {
   "cell_type": "code",
   "execution_count": 102,
   "metadata": {},
   "outputs": [],
   "source": [
    "for i in d1:\n",
    "    cities.add(i['city_id'])"
   ]
  },
  {
   "cell_type": "code",
   "execution_count": 103,
   "metadata": {},
   "outputs": [
    {
     "data": {
      "text/plain": [
       "{1}"
      ]
     },
     "execution_count": 103,
     "metadata": {},
     "output_type": "execute_result"
    }
   ],
   "source": [
    "cities"
   ]
  },
  {
   "cell_type": "markdown",
   "metadata": {},
   "source": [
    "#####  so here we can conclude that city_id of Delhi-NCR region is 1"
   ]
  },
  {
   "cell_type": "code",
   "execution_count": 104,
   "metadata": {},
   "outputs": [
    {
     "name": "stdout",
     "output_type": "stream",
     "text": [
      "Malwani\n",
      "BBQ\n"
     ]
    }
   ],
   "source": [
    "p={'city_id':1}\n",
    "head={\"user-key\":\"cf1194b048c4e62fcccfc0f02638d919\"}\n",
    "h=requests.get(\"https://developers.zomato.com/api/v2.1/cuisines\",params=p,headers=head)\n",
    "data=h.json()\n",
    "d1=data['cuisines']\n",
    "cuisine=set()\n",
    "for i in d1:\n",
    "    cuisine.add(i['cuisine']['cuisine_name'])\n",
    "for i in cuisine:\n",
    "    if i in common:\n",
    "        print(i)"
   ]
  },
  {
   "cell_type": "markdown",
   "metadata": {},
   "source": [
    "we didnt get other two restraunt which are in differece of other -delhi ncr because they are not present in dataset"
   ]
  },
  {
   "cell_type": "markdown",
   "metadata": {},
   "source": [
    "##### Cuisines present actually in Delhi-ncr region but not present in dataset are : BBQ and Malwani"
   ]
  },
  {
   "cell_type": "markdown",
   "metadata": {},
   "source": [
    "### 1.3 Find the top 10 cuisines served by maximum number of restaurants in Delhi NCR and rest of India. "
   ]
  },
  {
   "cell_type": "code",
   "execution_count": 81,
   "metadata": {},
   "outputs": [],
   "source": [
    "# In question 1.2 I had already store the number of cuisines in delhi-ncr and other parts of india \n",
    "# now we had to just count the number of count of cuisines"
   ]
  },
  {
   "cell_type": "code",
   "execution_count": 110,
   "metadata": {},
   "outputs": [],
   "source": [
    "delhi_count={}\n",
    "for i in delhi:\n",
    "    if i in delhi_count:\n",
    "        delhi_count[i]+=1\n",
    "    else:\n",
    "        delhi_count[i]=1\n",
    "rest_count={}http://localhost:8888/notebooks/Zomato%20%20API%20-II.ipynb#\n",
    "for i in other:\n",
    "    rest_count[i]=rest_count.get(i,0)+1"
   ]
  },
  {
   "cell_type": "code",
   "execution_count": 134,
   "metadata": {},
   "outputs": [],
   "source": [
    "sort_d=sorted(delhi_count.items(),key=lambda k:k[1],reverse=True)[:10]\n",
    "sort_o=sorted(rest_count.items(),key=lambda k:k[1],reverse=True)[:10]\n",
    "# here we sort the dict based on the values and reverse is true"
   ]
  },
  {
   "cell_type": "code",
   "execution_count": 139,
   "metadata": {},
   "outputs": [
    {
     "name": "stdout",
     "output_type": "stream",
     "text": [
      "North Indian  :  3597\n",
      "Chinese  :  2448\n",
      "Fast Food  :  1866\n",
      "Mughlai  :  933\n",
      "Bakery  :  697\n",
      "South Indian  :  569\n",
      "Continental  :  547\n",
      "Desserts  :  542\n",
      "Street Food  :  538\n",
      "Italian  :  535\n",
      "====================\n",
      "North Indian  :  349\n",
      "Chinese  :  242\n",
      "Continental  :  177\n",
      "Italian  :  147\n",
      "Cafe  :  136\n",
      "Fast Food  :  97\n",
      "South Indian  :  62\n",
      "Mughlai  :  59\n",
      "Desserts  :  55\n",
      "Mexican  :  50\n"
     ]
    }
   ],
   "source": [
    "for i,j in sort_d:\n",
    "    print(i,\" : \",j)\n",
    "print('====================')\n",
    "for i,j in sort_o:\n",
    "    print(i,\" : \",j)"
   ]
  },
  {
   "cell_type": "markdown",
   "metadata": {},
   "source": [
    "#### 1.4   Write a short detailed analysis of how cuisine served is different from Delhi NCR to Rest of India. Plot the suitable graph to explain your inference."
   ]
  },
  {
   "cell_type": "code",
   "execution_count": 140,
   "metadata": {},
   "outputs": [],
   "source": [
    "key_d=[]\n",
    "value_d=[]\n",
    "for i,j in sort_d:\n",
    "    key_d.append(i)\n",
    "    value_d.append(j)\n",
    "key_o=[]\n",
    "value_o=[]\n",
    "for i,j in sort_o:\n",
    "    key_o.append(i)\n",
    "    value_o.append(j)"
   ]
  },
  {
   "cell_type": "code",
   "execution_count": 164,
   "metadata": {},
   "outputs": [
    {
     "data": {
      "image/png": "[encoded data removed]",
      "text/plain": [
       "<Figure size 432x288 with 1 Axes>"
      ]
     },
     "metadata": {
      "needs_background": "light"
     },
     "output_type": "display_data"
    },
    {
     "name": "stdout",
     "output_type": "stream",
     "text": [
      " \n"
     ]
    }
   ],
   "source": [
    "plt.bar(key_d,value_d)\n",
    "plt.xticks(rotation=45)\n",
    "plt.xlabel(\"Cuisines\",size=15,color='g')\n",
    "plt.ylabel(\"No. of restraunts\",size=15,color='r')\n",
    "plt.title(\"Cuisines served by maximum restaurants in Delhi-NCR\",size=17,color='blue')\n",
    "plt.show()\n",
    "print(' ')\n",
    "plt.bar(key_o,value_d)\n",
    "plt.xticks(rotation=45)\n",
    "plt.xlabel(\"Cuisines\",size=15,color='g')\n",
    "plt.ylabel(\"No. of restraunts\",size=15,color='r')\n",
    "plt.title(\"Cuisines served by maximum restaurants in Delhi-NCR\",size=17,color='blue')\n",
    "plt.show()\n",
    "\n"
   ]
  },
  {
   "cell_type": "code",
   "execution_count": null,
   "metadata": {},
   "outputs": [],
   "source": []
  }
 ],
 "metadata": {
  "kernelspec": {
   "display_name": "Python 3",
   "language": "python",
   "name": "python3"
  },
  "language_info": {
   "codemirror_mode": {
    "name": "ipython",
    "version": 3
   },
   "file_extension": ".py",
   "mimetype": "text/x-python",
   "name": "python",
   "nbconvert_exporter": "python",
   "pygments_lexer": "ipython3",
   "version": "3.8.5"
  }
 },
 "nbformat": 4,
 "nbformat_minor": 4
}
