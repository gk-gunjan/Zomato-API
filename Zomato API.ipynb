{
 "cells": [
  {
   "cell_type": "markdown",
   "metadata": {},
   "source": [
    "### ASSIGNMENTS ON ZOMATO API - I    (Date:14/03/2021)\n",
    "#### Zomato APIs give you access to the freshest and most exhaustive information for over 1.5 million restaurants across 10,000 cities globally.\n",
    "##### Our Motivation for using Zomato API\n",
    "\n",
    "By Collecting the data using Zomato API one can recommend restaurants on the basis of user’s affinity to specific cuisines, establishment types, locations, and price bands.\n",
    "We can find out whether restaurant support online reservation or not.\n",
    "We can find what is the most popular and/ or exclusive/new at a given location & time.\n"
   ]
  },
  {
   "cell_type": "markdown",
   "metadata": {},
   "source": [
    "#### Zomato Cuisine 1.1\n",
    "\n",
    "Fetch the cuisine_id of ‘Mexican’ cuisine using Zomato API.\n",
    "Print the cuisine_id."
   ]
  },
  {
   "cell_type": "code",
   "execution_count": 1,
   "metadata": {},
   "outputs": [],
   "source": [
    "import requests\n",
    "import json"
   ]
  },
  {
   "cell_type": "code",
   "execution_count": 16,
   "metadata": {},
   "outputs": [
    {
     "name": "stdout",
     "output_type": "stream",
     "text": [
      "73\n"
     ]
    }
   ],
   "source": [
    "info={'user-key':'68a952b60155797d28def1585d888b9f'}\n",
    "data={'user-key':'68a952b60155797d28def1585d888b9f','city_id':1}\n",
    "p=requests.get('https://developers.zomato.com/api/v2.1/cuisines',headers=info,params=data)\n",
    "data=p.json()\n",
    "file=data['cuisines']\n",
    "for i in file:\n",
    "    if i['cuisine']['cuisine_name']=='Mexican':\n",
    "        print(i['cuisine']['cuisine_id'])"
   ]
  },
  {
   "cell_type": "markdown",
   "metadata": {},
   "source": [
    "#### Zomato Cuisine 1.3\n",
    "\n",
    "Fetch the entityid and entitytype of place Connaught Place.\n",
    "Print the entityid and entitytype,"
   ]
  },
  {
   "cell_type": "code",
   "execution_count": 60,
   "metadata": {},
   "outputs": [
    {
     "name": "stdout",
     "output_type": "stream",
     "text": [
      "subzone 104\n"
     ]
    }
   ],
   "source": [
    "import requests\n",
    "import json\n",
    "info={'user-key':'68a952b60155797d28def1585d888b9f'}\n",
    "data={'user-key':'68a952b60155797d28def1585d888b9f','query':'Connaught Place'}\n",
    "p=requests.get('https://developers.zomato.com/api/v2.1/locations',headers=info,params=data)\n",
    "file=p.json()\n",
    "o=file['location_suggestions']\n",
    "for i in o:\n",
    "    print(i['entity_type'],i['entity_id'])"
   ]
  },
  {
   "cell_type": "code",
   "execution_count": 24,
   "metadata": {},
   "outputs": [
    {
     "name": "stdout",
     "output_type": "stream",
     "text": [
      "subzone 104\n"
     ]
    }
   ],
   "source": [
    "info={'user-key':'68a952b60155797d28def1585d888b9f'}\n",
    "data={'user-key':'68a952b60155797d28def1585d888b9f','query':'Connaught Place'}\n",
    "p=requests.get('https://developers.zomato.com/api/v2.1/locations',headers=info,params=data)\n",
    "file=p.json()\n",
    "o=file['location_suggestions']\n",
    "for i in o:\n",
    "    print(i['entity_type'],i['entity_id'])"
   ]
  },
  {
   "cell_type": "markdown",
   "metadata": {},
   "source": [
    "#### Zomato Cuisine 1.4\n",
    "\n",
    "Fetch the top 10 best-rated restaurant serving ‘Mexican’ cuisine present in Connaught Place.\n",
    "Print the restaurant name, user rating and restaurant id."
   ]
  },
  {
   "cell_type": "code",
   "execution_count": 27,
   "metadata": {},
   "outputs": [],
   "source": [
    "import requests\n",
    "import json"
   ]
  },
  {
   "cell_type": "code",
   "execution_count": 58,
   "metadata": {},
   "outputs": [
    {
     "name": "stdout",
     "output_type": "stream",
     "text": [
      "Station Bar 4.5 18851371\n",
      "Xero Degrees 4.4 18729557\n",
      "Master Of Malts 4.4 18391149\n",
      "Chili's Grill & Bar 4.4 18537536\n",
      "Tamasha 4.3 18238278\n",
      "Local 4.3 18382360\n",
      "The Darzi Bar & Kitchen 4.3 18423151\n",
      "The Junkyard Cafe 4.3 313256\n",
      "Ministry Of Beer 4.3 18418277\n",
      "Teddy Boy 4.3 18281985\n"
     ]
    }
   ],
   "source": [
    "info={'user-key':'68a952b60155797d28def1585d888b9f'}\n",
    "p=requests.get('https://developers.zomato.com/api/v2.1/search',headers=info,\n",
    "               params={'cuisines':73,'entity_id':104,'entity_type':'subzone','sort':'rating','count':10})\n",
    "data=p.json()\n",
    "d1=data['restaurants']\n",
    "for i in d1:\n",
    "    print(i['restaurant']['name'],end=' ')\n",
    "    print(i['restaurant']['user_rating']['aggregate_rating'],end=' ')\n",
    "    print(i['restaurant']['R']['res_id'])"
   ]
  },
  {
   "cell_type": "markdown",
   "metadata": {},
   "source": [
    "#### Zomato Cuisine 1.5\n",
    "\n",
    "Fetch the category id of category type ‘Cafes’ using Zomato API.\n",
    "Print the category_id."
   ]
  },
  {
   "cell_type": "code",
   "execution_count": null,
   "metadata": {},
   "outputs": [],
   "source": [
    "import requests\n",
    "import json"
   ]
  },
  {
   "cell_type": "code",
   "execution_count": 71,
   "metadata": {},
   "outputs": [
    {
     "name": "stdout",
     "output_type": "stream",
     "text": [
      "6\n"
     ]
    },
    {
     "data": {
      "text/plain": [
       "[{'categories': {'id': 1, 'name': 'Delivery'}},\n",
       " {'categories': {'id': 2, 'name': 'Dine-out'}},\n",
       " {'categories': {'id': 3, 'name': 'Nightlife'}},\n",
       " {'categories': {'id': 4, 'name': 'Catching-up'}},\n",
       " {'categories': {'id': 5, 'name': 'Takeaway'}},\n",
       " {'categories': {'id': 6, 'name': 'Cafes'}},\n",
       " {'categories': {'id': 7, 'name': 'Daily Menus'}},\n",
       " {'categories': {'id': 8, 'name': 'Breakfast'}},\n",
       " {'categories': {'id': 9, 'name': 'Lunch'}},\n",
       " {'categories': {'id': 10, 'name': 'Dinner'}},\n",
       " {'categories': {'id': 11, 'name': 'Pubs & Bars'}},\n",
       " {'categories': {'id': 13, 'name': 'Pocket Friendly Delivery'}},\n",
       " {'categories': {'id': 14, 'name': 'Clubs & Lounges'}}]"
      ]
     },
     "execution_count": 71,
     "metadata": {},
     "output_type": "execute_result"
    }
   ],
   "source": [
    "info={'user-key':'68a952b60155797d28def1585d888b9f'}\n",
    "p=requests.get('https://developers.zomato.com/api/v2.1/categories',headers=info)\n",
    "data=p.json()\n",
    "data=data['categories']\n",
    "for i in data:\n",
    "    if i['categories']['name']=='Cafes':\n",
    "        print(i['categories']['id'])\n",
    "data"
   ]
  },
  {
   "cell_type": "markdown",
   "metadata": {},
   "source": [
    "#### Zomato Cuisine 1.6\n",
    "\n",
    "Fetch the best-rated restaurant for ‘Mexican’ cuisine with category type ‘ Cafes’ present in Connaught Place using Zomato API.\n",
    "Print the restaurant name, user rating and restaurant id."
   ]
  },
  {
   "cell_type": "code",
   "execution_count": 68,
   "metadata": {},
   "outputs": [],
   "source": [
    "import requests\n",
    "import json"
   ]
  },
  {
   "cell_type": "code",
   "execution_count": 75,
   "metadata": {},
   "outputs": [
    {
     "name": "stdout",
     "output_type": "stream",
     "text": [
      "Xero Degrees 4.4 18729557\n",
      "Chaayos - Meri Wali Chai 4.2 18237315\n",
      "The Art House Bar n Cafe 3.9 18863766\n",
      "Cafe Coffee Day - The Square 3.6 303034\n"
     ]
    }
   ],
   "source": [
    "info={'user-key':'68a952b60155797d28def1585d888b9f'}\n",
    "p=requests.get('https://developers.zomato.com/api/v2.1/search',headers=info,\n",
    "               params={'cuisines':73,'entity_id':104,'entity_type':'subzone','category':6,'sort':'rating'})\n",
    "data=p.json()\n",
    "d1=data['restaurants']\n",
    "for i in d1:\n",
    "    print(i['restaurant']['name'],end=' ')\n",
    "    print(i['restaurant']['user_rating']['aggregate_rating'],end=' ')\n",
    "    print(i['restaurant']['R']['res_id'])"
   ]
  },
  {
   "cell_type": "markdown",
   "metadata": {},
   "source": [
    "#### Zomato Cuisine 1.7\n",
    "\n",
    "Fetch the latest review of the best-rated restaurant for ‘Mexican’ cuisine with Category type ‘Cafes’ present in Connaught Place using Zomato API.\n",
    "Print the name of user ,user rating and review text.\n",
    "\n",
    "Note :\n",
    "Due to limitation of basic API plan it, can only fetch 5 latest review"
   ]
  },
  {
   "cell_type": "code",
   "execution_count": 81,
   "metadata": {},
   "outputs": [],
   "source": [
    "import requests\n",
    "import json"
   ]
  },
  {
   "cell_type": "code",
   "execution_count": 80,
   "metadata": {},
   "outputs": [
    {
     "name": "stdout",
     "output_type": "stream",
     "text": [
      "Vagish 5 \n",
      "Rachita Garg 3 Quantity very less as compared to the cost. Earlier it was not so\n",
      "Ankit Gola 5 \n",
      "Hina Suhail 5 \n",
      "Rakesh 5 Recently visited this place with my friends and i really enjoyed the day.   Ambience was really nice and took all guidelines and maintained hygiene..   We ordered Chicken wings, paneer makhani pizza, lferdo pasta, Grill, sandwiches and ed velvet thick shake, Nutella thick shake....   Both were beautifully presented and taste was also fantastic. and it was fantastic in taste. I totally loved all things. I would like to give them lots of thanks for their amazing services and fantastic place.\n"
     ]
    }
   ],
   "source": [
    "info={'user-key':'68a952b60155797d28def1585d888b9f'}\n",
    "p=requests.get('https://developers.zomato.com/api/v2.1/reviews',headers=info\n",
    ",params={'res_id':18729557})\n",
    "data=p.json()\n",
    "data=data['user_reviews']\n",
    "for i in data:\n",
    "    print(i['review']['user']['name'],end=' ')\n",
    "    print(i['review']['rating'],end=' ')\n",
    "    print(i['review']['review_text'])"
   ]
  },
  {
   "cell_type": "markdown",
   "metadata": {},
   "source": [
    "### Zomato restaurant Problem Detail\n",
    "\n",
    " Problem 2\n",
    " \n",
    "\"Pa Pa Ya\" is a modern Asian bistro & tapas bar from the House of Massive Restaurants and best described as a chic, modern and radical reinterpretation of Asian cuisine.\n",
    "You have heard from your friends that restaurant \"Pa Pa Ya\" in Delhi is quite good. So now you want to extract the information related to \"Pa Pa Ya\" using Zomato API.\n",
    "There is a list of questions related to the restaurant given in the next section."
   ]
  },
  {
   "cell_type": "markdown",
   "metadata": {},
   "source": [
    "##### Zomato Restaurant 2.2\n",
    "\n",
    "Fetch the details of \"Pa Pa Ya\" restaurant using Zomato API.\n",
    "Print the user rating, the average cost for two, cuisines and address of \"Pa Pa Ya\" restaurant."
   ]
  },
  {
   "cell_type": "code",
   "execution_count": 1,
   "metadata": {},
   "outputs": [],
   "source": [
    "import requests\n",
    "import json"
   ]
  },
  {
   "cell_type": "code",
   "execution_count": 49,
   "metadata": {},
   "outputs": [
    {
     "name": "stdout",
     "output_type": "stream",
     "text": [
      "4.4\n",
      "2500\n",
      "Asian, Chinese, Thai, Japanese, Sushi, Malaysian, Momos, Beverages\n",
      "A-3, Select Citywalk, District Centre, Saket, New Delhi\n"
     ]
    }
   ],
   "source": [
    "info={'user-key':'68a952b60155797d28def1585d888b9f'}\n",
    "p=requests.get('https://developers.zomato.com/api/v2.1/restaurant',headers=info,params={'res_id':18429148})\n",
    "data=p.json()\n",
    "print(data['user_rating']['aggregate_rating'])\n",
    "print(data['average_cost_for_two'])\n",
    "print(data['cuisines'])\n",
    "print(data['location']['address'])"
   ]
  },
  {
   "cell_type": "code",
   "execution_count": 45,
   "metadata": {},
   "outputs": [
    {
     "data": {
      "text/plain": [
       "{'R': {'res_id': 18429148,\n",
       "  'is_grocery_store': False,\n",
       "  'has_menu_status': {'delivery': True, 'takeaway': -1}},\n",
       " 'apikey': '68a952b60155797d28def1585d888b9f',\n",
       " 'id': '18429148',\n",
       " 'name': 'Pa Pa Ya',\n",
       " 'url': 'https://www.zomato.com/ncr/pa-pa-ya-saket-new-delhi?utm_source=api_basic_user&utm_medium=api&utm_campaign=v2.1',\n",
       " 'location': {'address': 'A-3, Select Citywalk, District Centre, Saket, New Delhi',\n",
       "  'locality': 'Select Citywalk Mall, Saket',\n",
       "  'city': 'New Delhi',\n",
       "  'city_id': 1,\n",
       "  'latitude': '28.5284284243',\n",
       "  'longitude': '77.2184053436',\n",
       "  'zipcode': '',\n",
       "  'country_id': 1,\n",
       "  'locality_verbose': 'Select Citywalk Mall, Saket, New Delhi'},\n",
       " 'switch_to_order_menu': 0,\n",
       " 'cuisines': 'Asian, Chinese, Thai, Japanese, Sushi, Malaysian, Momos, Beverages',\n",
       " 'timings': '12noon – 11:30pm (Mon-Sun)',\n",
       " 'average_cost_for_two': 2500,\n",
       " 'price_range': 4,\n",
       " 'currency': 'Rs.',\n",
       " 'highlights': ['Lunch',\n",
       "  'Dinner',\n",
       "  'Seating Available',\n",
       "  'Mall Parking',\n",
       "  'Cash',\n",
       "  'Credit Card',\n",
       "  'Debit Card',\n",
       "  'Fullbar',\n",
       "  'Table booking recommended',\n",
       "  'Air Conditioned',\n",
       "  'Gourmet',\n",
       "  'Smoking Area',\n",
       "  'Brunch',\n",
       "  'Romantic Dining',\n",
       "  'Indoor Seating',\n",
       "  ''],\n",
       " 'offers': [],\n",
       " 'opentable_support': 0,\n",
       " 'is_zomato_book_res': 0,\n",
       " 'mezzo_provider': 'OTHER',\n",
       " 'is_book_form_web_view': 0,\n",
       " 'book_form_web_view_url': '',\n",
       " 'book_again_url': '',\n",
       " 'thumb': 'https://b.zmtcdn.com/data/res_imagery/18429148_RESTAURANT_433edbeec2decc62911522378eca7fa8.jpg?fit=around%7C200%3A200&crop=200%3A200%3B%2A%2C%2A',\n",
       " 'user_rating': {'aggregate_rating': '4.4',\n",
       "  'rating_text': 'Very Good',\n",
       "  'rating_color': '5BA829',\n",
       "  'rating_obj': {'title': {'text': '4.4'},\n",
       "   'bg_color': {'type': 'lime', 'tint': '700'}},\n",
       "  'votes': 4103},\n",
       " 'all_reviews_count': 2421,\n",
       " 'photos_url': 'https://www.zomato.com/ncr/pa-pa-ya-saket-new-delhi/photos?utm_source=api_basic_user&utm_medium=api&utm_campaign=v2.1#tabtop',\n",
       " 'photo_count': 8634,\n",
       " 'menu_url': 'https://www.zomato.com/ncr/pa-pa-ya-saket-new-delhi/menu?utm_source=api_basic_user&utm_medium=api&utm_campaign=v2.1&openSwipeBox=menu&showMinimal=1#tabtop',\n",
       " 'featured_image': 'https://b.zmtcdn.com/data/res_imagery/18429148_RESTAURANT_433edbeec2decc62911522378eca7fa8.jpg',\n",
       " 'medio_provider': True,\n",
       " 'has_online_delivery': 1,\n",
       " 'is_delivering_now': 1,\n",
       " 'store_type': '',\n",
       " 'include_bogo_offers': True,\n",
       " 'deeplink': 'zomato://restaurant/18429148',\n",
       " 'order_url': 'https://www.zomato.com/ncr/pa-pa-ya-saket-new-delhi/order?utm_source=api_basic_user&utm_medium=api&utm_campaign=v2.1',\n",
       " 'order_deeplink': '',\n",
       " 'is_table_reservation_supported': 1,\n",
       " 'has_table_booking': 1,\n",
       " 'book_url': 'https://www.zomato.com/ncr/pa-pa-ya-saket-new-delhi/book?utm_source=api_basic_user&utm_medium=api&utm_campaign=v2.1',\n",
       " 'events_url': 'https://www.zomato.com/ncr/pa-pa-ya-saket-new-delhi/events#tabtop?utm_source=api_basic_user&utm_medium=api&utm_campaign=v2.1',\n",
       " 'phone_numbers': '+91 8800002881, +91 8800002882',\n",
       " 'all_reviews': {'reviews': [{'review': []},\n",
       "   {'review': []},\n",
       "   {'review': []},\n",
       "   {'review': []},\n",
       "   {'review': []}]},\n",
       " 'establishment': ['Casual Dining']}"
      ]
     },
     "execution_count": 45,
     "metadata": {},
     "output_type": "execute_result"
    }
   ],
   "source": [
    "data\n"
   ]
  },
  {
   "cell_type": "markdown",
   "metadata": {},
   "source": [
    "#### Zomato Restaurant 2.3\n",
    "\n",
    "Find out whether online table reservation is supported in \"Pa Pa Ya\" restaurant or not using Zomato API.\n",
    "Print 'yes' if online table reservation is supported else 'no'\n",
    "Note :\n",
    "In Zomato response JSON. 1=Yes and 0 = No"
   ]
  },
  {
   "cell_type": "code",
   "execution_count": 21,
   "metadata": {},
   "outputs": [],
   "source": [
    "import requests\n",
    "import json"
   ]
  },
  {
   "cell_type": "code",
   "execution_count": 33,
   "metadata": {},
   "outputs": [],
   "source": [
    "info={'user-key':'68a952b60155797d28def1585d888b9f'}\n",
    "p=requests.get('https://developers.zomato.com/api/v2.1/restaurant',headers=info,params={'res_id':18429148})\n",
    "data=p.json()"
   ]
  },
  {
   "cell_type": "code",
   "execution_count": 39,
   "metadata": {},
   "outputs": [
    {
     "name": "stdout",
     "output_type": "stream",
     "text": [
      "yes\n"
     ]
    }
   ],
   "source": [
    "if data['is_table_reservation_supported']== 0:\n",
    "    print('no')\n",
    "else:\n",
    "    print('yes')"
   ]
  },
  {
   "cell_type": "code",
   "execution_count": 38,
   "metadata": {},
   "outputs": [
    {
     "data": {
      "text/plain": [
       "{'R': {'res_id': 18429148,\n",
       "  'is_grocery_store': False,\n",
       "  'has_menu_status': {'delivery': True, 'takeaway': -1}},\n",
       " 'apikey': '68a952b60155797d28def1585d888b9f',\n",
       " 'id': '18429148',\n",
       " 'name': 'Pa Pa Ya',\n",
       " 'url': 'https://www.zomato.com/ncr/pa-pa-ya-saket-new-delhi?utm_source=api_basic_user&utm_medium=api&utm_campaign=v2.1',\n",
       " 'location': {'address': 'A-3, Select Citywalk, District Centre, Saket, New Delhi',\n",
       "  'locality': 'Select Citywalk Mall, Saket',\n",
       "  'city': 'New Delhi',\n",
       "  'city_id': 1,\n",
       "  'latitude': '28.5284284243',\n",
       "  'longitude': '77.2184053436',\n",
       "  'zipcode': '',\n",
       "  'country_id': 1,\n",
       "  'locality_verbose': 'Select Citywalk Mall, Saket, New Delhi'},\n",
       " 'switch_to_order_menu': 0,\n",
       " 'cuisines': 'Asian, Chinese, Thai, Japanese, Sushi, Malaysian, Momos, Beverages',\n",
       " 'timings': '12noon – 11:30pm (Mon-Sun)',\n",
       " 'average_cost_for_two': 2500,\n",
       " 'price_range': 4,\n",
       " 'currency': 'Rs.',\n",
       " 'highlights': ['Lunch',\n",
       "  'Dinner',\n",
       "  'Seating Available',\n",
       "  'Mall Parking',\n",
       "  'Cash',\n",
       "  'Credit Card',\n",
       "  'Debit Card',\n",
       "  'Fullbar',\n",
       "  'Table booking recommended',\n",
       "  'Air Conditioned',\n",
       "  'Gourmet',\n",
       "  'Smoking Area',\n",
       "  'Brunch',\n",
       "  'Romantic Dining',\n",
       "  'Indoor Seating',\n",
       "  ''],\n",
       " 'offers': [],\n",
       " 'opentable_support': 0,\n",
       " 'is_zomato_book_res': 0,\n",
       " 'mezzo_provider': 'OTHER',\n",
       " 'is_book_form_web_view': 0,\n",
       " 'book_form_web_view_url': '',\n",
       " 'book_again_url': '',\n",
       " 'thumb': 'https://b.zmtcdn.com/data/res_imagery/18429148_RESTAURANT_433edbeec2decc62911522378eca7fa8.jpg?fit=around%7C200%3A200&crop=200%3A200%3B%2A%2C%2A',\n",
       " 'user_rating': {'aggregate_rating': '4.4',\n",
       "  'rating_text': 'Very Good',\n",
       "  'rating_color': '5BA829',\n",
       "  'rating_obj': {'title': {'text': '4.4'},\n",
       "   'bg_color': {'type': 'lime', 'tint': '700'}},\n",
       "  'votes': 4103},\n",
       " 'all_reviews_count': 2421,\n",
       " 'photos_url': 'https://www.zomato.com/ncr/pa-pa-ya-saket-new-delhi/photos?utm_source=api_basic_user&utm_medium=api&utm_campaign=v2.1#tabtop',\n",
       " 'photo_count': 8634,\n",
       " 'menu_url': 'https://www.zomato.com/ncr/pa-pa-ya-saket-new-delhi/menu?utm_source=api_basic_user&utm_medium=api&utm_campaign=v2.1&openSwipeBox=menu&showMinimal=1#tabtop',\n",
       " 'featured_image': 'https://b.zmtcdn.com/data/res_imagery/18429148_RESTAURANT_433edbeec2decc62911522378eca7fa8.jpg',\n",
       " 'medio_provider': True,\n",
       " 'has_online_delivery': 1,\n",
       " 'is_delivering_now': 1,\n",
       " 'store_type': '',\n",
       " 'include_bogo_offers': True,\n",
       " 'deeplink': 'zomato://restaurant/18429148',\n",
       " 'order_url': 'https://www.zomato.com/ncr/pa-pa-ya-saket-new-delhi/order?utm_source=api_basic_user&utm_medium=api&utm_campaign=v2.1',\n",
       " 'order_deeplink': '',\n",
       " 'is_table_reservation_supported': 1,\n",
       " 'has_table_booking': 1,\n",
       " 'book_url': 'https://www.zomato.com/ncr/pa-pa-ya-saket-new-delhi/book?utm_source=api_basic_user&utm_medium=api&utm_campaign=v2.1',\n",
       " 'events_url': 'https://www.zomato.com/ncr/pa-pa-ya-saket-new-delhi/events#tabtop?utm_source=api_basic_user&utm_medium=api&utm_campaign=v2.1',\n",
       " 'phone_numbers': '+91 8800002881, +91 8800002882',\n",
       " 'all_reviews': {'reviews': [{'review': []},\n",
       "   {'review': []},\n",
       "   {'review': []},\n",
       "   {'review': []},\n",
       "   {'review': []}]},\n",
       " 'establishment': ['Casual Dining']}"
      ]
     },
     "execution_count": 38,
     "metadata": {},
     "output_type": "execute_result"
    }
   ],
   "source": [
    "data\n"
   ]
  },
  {
   "cell_type": "markdown",
   "metadata": {},
   "source": [
    "#### Zomato Restaurant 2.4\n",
    "\n",
    "Fetch the latest review of \"Pa Pa Ya\" restaurant using Zomato API.\n",
    "Print the name of the user, user rating and review text.\n",
    "Note :\n",
    "Due to the limitation of the basic API plan, it can only fetch 5 latest review"
   ]
  },
  {
   "cell_type": "code",
   "execution_count": 59,
   "metadata": {},
   "outputs": [
    {
     "name": "stdout",
     "output_type": "stream",
     "text": [
      "Sahil Bhalla 2 There taste has never been so worse... Whats wrong with them\n",
      "Harsh Mittal 1 The mapo tofu and mushroom curry both seemed to be made in the same curry. Sparse vegetables and tofu were thrown in. It was a very poorly made meal. So disappointed. Papaya food used to be a lot better\n",
      "Esther Namikaze 5 Wonderful lunch with my best friend ❤️❤️ Great food, courteous staff. I want to mention Vikram who was extremely helpful and sweet, and made our experience even better. Wok fried noodles were our fav. Highly recommended. The dessert was also delicious. Thank you for everything.\n",
      "Debolina Dey 4 \n",
      "Megha Jain 5 The food was very delicious, totally worth the price. The ambience was good. Social distancing and hygiene factors were given utmost importance. The staff was well behaved and professional especially Mr. Sanjeev and Mr. Rajesh.\n"
     ]
    }
   ],
   "source": [
    "import requests\n",
    "import json\n",
    "info={'user-key':'68a952b60155797d28def1585d888b9f'}\n",
    "p=requests.get('https://developers.zomato.com/api/v2.1/reviews',headers=info,params={'res_id':18429148})\n",
    "data=p.json()\n",
    "data=data['user_reviews']\n",
    "for i in data:\n",
    "    print(i['review']['user']['name'],end=' ')\n",
    "    print(i['review']['rating'],end=' ')\n",
    "    print(i['review']['review_text'])"
   ]
  },
  {
   "cell_type": "code",
   "execution_count": 60,
   "metadata": {},
   "outputs": [
    {
     "data": {
      "text/plain": [
       "[{'review': {'rating': 2,\n",
       "   'review_text': 'There taste has never been so worse... Whats wrong with them',\n",
       "   'id': 60323727,\n",
       "   'rating_color': 'FF7800',\n",
       "   'review_time_friendly': '10 hours ago',\n",
       "   'rating_text': 'Blah!',\n",
       "   'timestamp': 1615763575,\n",
       "   'likes': 0,\n",
       "   'user': {'name': 'Sahil Bhalla',\n",
       "    'foodie_color': 'ffd35d',\n",
       "    'profile_url': 'https://www.zomato.com/users/sahil-bhalla-41393754?utm_source=api_basic_user&utm_medium=api&utm_campaign=v2.1',\n",
       "    'profile_image': 'https://b.zmtcdn.com/images/user_avatars/pizza_2x.png?fit=around%7C200%3A200&crop=200%3A200%3B%2A%2C%2A',\n",
       "    'profile_deeplink': 'zomato://u/41393754'},\n",
       "   'comments_count': 0}},\n",
       " {'review': {'rating': 1,\n",
       "   'review_text': 'The mapo tofu and mushroom curry both seemed to be made in the same curry. Sparse vegetables and tofu were thrown in. It was a very poorly made meal. So disappointed. Papaya food used to be a lot better',\n",
       "   'id': 60244579,\n",
       "   'rating_color': 'CB202D',\n",
       "   'review_time_friendly': 'yesterday',\n",
       "   'rating_text': 'Avoid!',\n",
       "   'timestamp': 1615694344,\n",
       "   'likes': 0,\n",
       "   'user': {'name': 'Harsh Mittal',\n",
       "    'foodie_color': 'ffd35d',\n",
       "    'profile_url': 'https://www.zomato.com/users/harsh-mittal-36189205?utm_source=api_basic_user&utm_medium=api&utm_campaign=v2.1',\n",
       "    'profile_image': 'https://b.zmtcdn.com/data/user_profile_pictures/fac/4b47574f41aa15deb6dde1cb3de5afac.jpg?fit=around%7C100%3A100&crop=100%3A100%3B%2A%2C%2A',\n",
       "    'profile_deeplink': 'zomato://u/36189205'},\n",
       "   'comments_count': 0}},\n",
       " {'review': {'rating': 5,\n",
       "   'review_text': 'Wonderful lunch with my best friend ❤️❤️ Great food, courteous staff. I want to mention Vikram who was extremely helpful and sweet, and made our experience even better. Wok fried noodles were our fav. Highly recommended. The dessert was also delicious. Thank you for everything.',\n",
       "   'id': 59953072,\n",
       "   'rating_color': '305D02',\n",
       "   'review_time_friendly': '6 days ago',\n",
       "   'rating_text': 'Insane!',\n",
       "   'timestamp': 1615284647,\n",
       "   'likes': 0,\n",
       "   'user': {'name': 'Esther Namikaze',\n",
       "    'foodie_color': 'ffd35d',\n",
       "    'profile_url': 'https://www.zomato.com/users/esther-namikaze-713704?utm_source=api_basic_user&utm_medium=api&utm_campaign=v2.1',\n",
       "    'profile_image': 'https://b.zmtcdn.com/data/user_profile_pictures/12d/8226cb16ac75c98595790a9cc745b12d.jpg?fit=around%7C100%3A100&crop=100%3A100%3B%2A%2C%2A',\n",
       "    'profile_deeplink': 'zomato://u/713704'},\n",
       "   'comments_count': 0}},\n",
       " {'review': {'rating': 4,\n",
       "   'review_text': '',\n",
       "   'id': 59782790,\n",
       "   'rating_color': '5BA829',\n",
       "   'review_time_friendly': '8 days ago',\n",
       "   'rating_text': 'Great!',\n",
       "   'timestamp': 1615138740,\n",
       "   'likes': 0,\n",
       "   'user': {'name': 'Debolina Dey',\n",
       "    'foodie_color': 'ffae4f',\n",
       "    'profile_url': 'https://www.zomato.com/users/debolina-dey-6446?utm_source=api_basic_user&utm_medium=api&utm_campaign=v2.1',\n",
       "    'profile_image': 'https://b.zmtcdn.com/images/user_avatars/pizza_2x.png?fit=around%7C200%3A200&crop=200%3A200%3B%2A%2C%2A',\n",
       "    'profile_deeplink': 'zomato://u/6446'},\n",
       "   'comments_count': 0}},\n",
       " {'review': {'rating': 5,\n",
       "   'review_text': 'The food was very delicious, totally worth the price. The ambience was good. Social distancing and hygiene factors were given utmost importance. The staff was well behaved and professional especially Mr. Sanjeev and Mr. Rajesh.',\n",
       "   'id': 59732732,\n",
       "   'rating_color': '305D02',\n",
       "   'review_time_friendly': '8 days ago',\n",
       "   'rating_text': 'Insane!',\n",
       "   'timestamp': 1615130696,\n",
       "   'likes': 0,\n",
       "   'user': {'name': 'Megha Jain',\n",
       "    'zomato_handle': '',\n",
       "    'foodie_color': 'ffd35d',\n",
       "    'profile_url': 'https://www.zomato.com/users/megha-jain-47494067?utm_source=api_basic_user&utm_medium=api&utm_campaign=v2.1',\n",
       "    'profile_image': 'https://b.zmtcdn.com/data/user_profile_pictures/9ee/8f6a452c40f39cdc2bf411913a8309ee.jpg?fit=around%7C100%3A100&crop=100%3A100%3B%2A%2C%2A',\n",
       "    'profile_deeplink': 'zomato://u/47494067'},\n",
       "   'comments_count': 0}}]"
      ]
     },
     "execution_count": 60,
     "metadata": {},
     "output_type": "execute_result"
    }
   ],
   "source": [
    "data"
   ]
  },
  {
   "cell_type": "markdown",
   "metadata": {},
   "source": [
    "# Coding Ninjas LATITUDE AND LONGITUDE\n",
    "28.6977° N, 77.1406° E"
   ]
  },
  {
   "cell_type": "markdown",
   "metadata": {},
   "source": [
    "### Zomato Distance Problem\n",
    "\n",
    "Distance is also a very important factor while selecting a restaurant. Suppose you are at Coding Ninjas and you want to select the restaurant which is near to you using Zomato API.\n",
    "Note down the latitude and longitude of Coding Ninjas using Google Maps\n",
    "There is a list of questions related to restaurant near me given in the next section.\n"
   ]
  },
  {
   "cell_type": "markdown",
   "metadata": {},
   "source": [
    "### Zomato distance 3.1\n",
    "\n",
    "Fetch the cuisine_id of of cuisine ‘BBQ’ using Zomato API.\n",
    "Print the cuisine_id"
   ]
  },
  {
   "cell_type": "code",
   "execution_count": 65,
   "metadata": {},
   "outputs": [
    {
     "name": "stdout",
     "output_type": "stream",
     "text": [
      "193\n"
     ]
    }
   ],
   "source": [
    "import requests\n",
    "import json\n",
    "info={'user-key':'68a952b60155797d28def1585d888b9f'}\n",
    "p=requests.get('https://developers.zomato.com/api/v2.1/cuisines',headers=info,params={'city_id':1})\n",
    "data=p.json()\n",
    "file=data['cuisines']\n",
    "for i in file:\n",
    "    if i['cuisine']['cuisine_name']=='BBQ':\n",
    "        print(i['cuisine']['cuisine_id'])"
   ]
  },
  {
   "cell_type": "markdown",
   "metadata": {},
   "source": [
    "### Zomato distance 3.2\n",
    "\n",
    "Fetch the list of the top 10 restaurants serving cuisine ‘BBQ’ which are nearest to Coding Ninjas.\n",
    "Print the restaurant name, user rating, restaurant id and locality in which restaurant is present."
   ]
  },
  {
   "cell_type": "code",
   "execution_count": 126,
   "metadata": {},
   "outputs": [
    {
     "name": "stdout",
     "output_type": "stream",
     "text": [
      "Themis Barbecue House 4.2 18204820 Netaji Subhash Place\n",
      "Tandoori Nights 0 19661940 Pitampura\n",
      "UBQ by Barbeque Nation 3.6 18889769 Netaji Subhash Place\n",
      "Barbeque Nation 4.1 9561 Netaji Subhash Place\n",
      "Amazings Kitchen 0 19370424 Prashant Vihar\n",
      "Anytime Chicken 0 19520153 Shalimar Bagh\n",
      "UBQ by Barbeque Nation 3.9 19082741 Lawrence Road\n",
      "Moet's Barbeque 0 19238917 Alipur\n",
      "BBQ Express By The Barbeque Company 3.6 19494102 Punjabi Bagh\n",
      "UBQ by Barbeque Nation 3.6 18889760 Rohini\n"
     ]
    }
   ],
   "source": [
    "import requests\n",
    "import json\n",
    "info={'user-key':'d35451bc6dc04b3662194e3fce301ced'}\n",
    "quto={'lon':'77.1406','lat':'28.6975','count':'10','cuisines':'193','sort':'real_distance','order':'asc'}\n",
    "r=requests.get(\"https://developers.zomato.com/api/v2.1/search\",headers=info,params=quto)\n",
    "data=r.json()\n",
    "for i in data['restaurants']:\n",
    "    print(i['restaurant']['name'],end=' ')\n",
    "    print(i['restaurant']['user_rating']['aggregate_rating'],end=' ')\n",
    "    print(i['restaurant']['id'],end=' ')\n",
    "    print(i['restaurant']['location']['locality'])"
   ]
  },
  {
   "cell_type": "markdown",
   "metadata": {},
   "source": [
    "#### Zomato distance 3.3\n",
    "\n",
    "Fetch the latest review of the restaurant serving cuisine ‘BBQ’ which is most nearest to Coding ninjas?\n",
    "Print the name of user ,user rating and review text.\n",
    "Note :\n",
    "Due to limitation of basic API plan it, can only fetch 5 latest review"
   ]
  },
  {
   "cell_type": "code",
   "execution_count": 131,
   "metadata": {},
   "outputs": [
    {
     "ename": "ConnectionError",
     "evalue": "HTTPSConnectionPool(host='developers.zomato.com', port=443): Max retries exceeded with url: /api/v2.1/reviews?res_id=18204820 (Caused by NewConnectionError('<urllib3.connection.HTTPSConnection object at 0x7fd6984254f0>: Failed to establish a new connection: [Errno -3] Temporary failure in name resolution'))",
     "output_type": "error",
     "traceback": [
      "\u001b[0;31m---------------------------------------------------------------------------\u001b[0m",
      "\u001b[0;31mgaierror\u001b[0m                                  Traceback (most recent call last)",
      "\u001b[0;32m~/anaconda3/lib/python3.8/site-packages/urllib3/connection.py\u001b[0m in \u001b[0;36m_new_conn\u001b[0;34m(self)\u001b[0m\n\u001b[1;32m    158\u001b[0m         \u001b[0;32mtry\u001b[0m\u001b[0;34m:\u001b[0m\u001b[0;34m\u001b[0m\u001b[0;34m\u001b[0m\u001b[0m\n\u001b[0;32m--> 159\u001b[0;31m             conn = connection.create_connection(\n\u001b[0m\u001b[1;32m    160\u001b[0m                 \u001b[0;34m(\u001b[0m\u001b[0mself\u001b[0m\u001b[0;34m.\u001b[0m\u001b[0m_dns_host\u001b[0m\u001b[0;34m,\u001b[0m \u001b[0mself\u001b[0m\u001b[0;34m.\u001b[0m\u001b[0mport\u001b[0m\u001b[0;34m)\u001b[0m\u001b[0;34m,\u001b[0m \u001b[0mself\u001b[0m\u001b[0;34m.\u001b[0m\u001b[0mtimeout\u001b[0m\u001b[0;34m,\u001b[0m \u001b[0;34m**\u001b[0m\u001b[0mextra_kw\u001b[0m\u001b[0;34m\u001b[0m\u001b[0;34m\u001b[0m\u001b[0m\n",
      "\u001b[0;32m~/anaconda3/lib/python3.8/site-packages/urllib3/util/connection.py\u001b[0m in \u001b[0;36mcreate_connection\u001b[0;34m(address, timeout, source_address, socket_options)\u001b[0m\n\u001b[1;32m     60\u001b[0m \u001b[0;34m\u001b[0m\u001b[0m\n\u001b[0;32m---> 61\u001b[0;31m     \u001b[0;32mfor\u001b[0m \u001b[0mres\u001b[0m \u001b[0;32min\u001b[0m \u001b[0msocket\u001b[0m\u001b[0;34m.\u001b[0m\u001b[0mgetaddrinfo\u001b[0m\u001b[0;34m(\u001b[0m\u001b[0mhost\u001b[0m\u001b[0;34m,\u001b[0m \u001b[0mport\u001b[0m\u001b[0;34m,\u001b[0m \u001b[0mfamily\u001b[0m\u001b[0;34m,\u001b[0m \u001b[0msocket\u001b[0m\u001b[0;34m.\u001b[0m\u001b[0mSOCK_STREAM\u001b[0m\u001b[0;34m)\u001b[0m\u001b[0;34m:\u001b[0m\u001b[0;34m\u001b[0m\u001b[0;34m\u001b[0m\u001b[0m\n\u001b[0m\u001b[1;32m     62\u001b[0m         \u001b[0maf\u001b[0m\u001b[0;34m,\u001b[0m \u001b[0msocktype\u001b[0m\u001b[0;34m,\u001b[0m \u001b[0mproto\u001b[0m\u001b[0;34m,\u001b[0m \u001b[0mcanonname\u001b[0m\u001b[0;34m,\u001b[0m \u001b[0msa\u001b[0m \u001b[0;34m=\u001b[0m \u001b[0mres\u001b[0m\u001b[0;34m\u001b[0m\u001b[0;34m\u001b[0m\u001b[0m\n",
      "\u001b[0;32m~/anaconda3/lib/python3.8/socket.py\u001b[0m in \u001b[0;36mgetaddrinfo\u001b[0;34m(host, port, family, type, proto, flags)\u001b[0m\n\u001b[1;32m    917\u001b[0m     \u001b[0maddrlist\u001b[0m \u001b[0;34m=\u001b[0m \u001b[0;34m[\u001b[0m\u001b[0;34m]\u001b[0m\u001b[0;34m\u001b[0m\u001b[0;34m\u001b[0m\u001b[0m\n\u001b[0;32m--> 918\u001b[0;31m     \u001b[0;32mfor\u001b[0m \u001b[0mres\u001b[0m \u001b[0;32min\u001b[0m \u001b[0m_socket\u001b[0m\u001b[0;34m.\u001b[0m\u001b[0mgetaddrinfo\u001b[0m\u001b[0;34m(\u001b[0m\u001b[0mhost\u001b[0m\u001b[0;34m,\u001b[0m \u001b[0mport\u001b[0m\u001b[0;34m,\u001b[0m \u001b[0mfamily\u001b[0m\u001b[0;34m,\u001b[0m \u001b[0mtype\u001b[0m\u001b[0;34m,\u001b[0m \u001b[0mproto\u001b[0m\u001b[0;34m,\u001b[0m \u001b[0mflags\u001b[0m\u001b[0;34m)\u001b[0m\u001b[0;34m:\u001b[0m\u001b[0;34m\u001b[0m\u001b[0;34m\u001b[0m\u001b[0m\n\u001b[0m\u001b[1;32m    919\u001b[0m         \u001b[0maf\u001b[0m\u001b[0;34m,\u001b[0m \u001b[0msocktype\u001b[0m\u001b[0;34m,\u001b[0m \u001b[0mproto\u001b[0m\u001b[0;34m,\u001b[0m \u001b[0mcanonname\u001b[0m\u001b[0;34m,\u001b[0m \u001b[0msa\u001b[0m \u001b[0;34m=\u001b[0m \u001b[0mres\u001b[0m\u001b[0;34m\u001b[0m\u001b[0;34m\u001b[0m\u001b[0m\n",
      "\u001b[0;31mgaierror\u001b[0m: [Errno -3] Temporary failure in name resolution",
      "\nDuring handling of the above exception, another exception occurred:\n",
      "\u001b[0;31mNewConnectionError\u001b[0m                        Traceback (most recent call last)",
      "\u001b[0;32m~/anaconda3/lib/python3.8/site-packages/urllib3/connectionpool.py\u001b[0m in \u001b[0;36murlopen\u001b[0;34m(self, method, url, body, headers, retries, redirect, assert_same_host, timeout, pool_timeout, release_conn, chunked, body_pos, **response_kw)\u001b[0m\n\u001b[1;32m    669\u001b[0m             \u001b[0;31m# Make the request on the httplib connection object.\u001b[0m\u001b[0;34m\u001b[0m\u001b[0;34m\u001b[0m\u001b[0;34m\u001b[0m\u001b[0m\n\u001b[0;32m--> 670\u001b[0;31m             httplib_response = self._make_request(\n\u001b[0m\u001b[1;32m    671\u001b[0m                 \u001b[0mconn\u001b[0m\u001b[0;34m,\u001b[0m\u001b[0;34m\u001b[0m\u001b[0;34m\u001b[0m\u001b[0m\n",
      "\u001b[0;32m~/anaconda3/lib/python3.8/site-packages/urllib3/connectionpool.py\u001b[0m in \u001b[0;36m_make_request\u001b[0;34m(self, conn, method, url, timeout, chunked, **httplib_request_kw)\u001b[0m\n\u001b[1;32m    380\u001b[0m         \u001b[0;32mtry\u001b[0m\u001b[0;34m:\u001b[0m\u001b[0;34m\u001b[0m\u001b[0;34m\u001b[0m\u001b[0m\n\u001b[0;32m--> 381\u001b[0;31m             \u001b[0mself\u001b[0m\u001b[0;34m.\u001b[0m\u001b[0m_validate_conn\u001b[0m\u001b[0;34m(\u001b[0m\u001b[0mconn\u001b[0m\u001b[0;34m)\u001b[0m\u001b[0;34m\u001b[0m\u001b[0;34m\u001b[0m\u001b[0m\n\u001b[0m\u001b[1;32m    382\u001b[0m         \u001b[0;32mexcept\u001b[0m \u001b[0;34m(\u001b[0m\u001b[0mSocketTimeout\u001b[0m\u001b[0;34m,\u001b[0m \u001b[0mBaseSSLError\u001b[0m\u001b[0;34m)\u001b[0m \u001b[0;32mas\u001b[0m \u001b[0me\u001b[0m\u001b[0;34m:\u001b[0m\u001b[0;34m\u001b[0m\u001b[0;34m\u001b[0m\u001b[0m\n",
      "\u001b[0;32m~/anaconda3/lib/python3.8/site-packages/urllib3/connectionpool.py\u001b[0m in \u001b[0;36m_validate_conn\u001b[0;34m(self, conn)\u001b[0m\n\u001b[1;32m    977\u001b[0m         \u001b[0;32mif\u001b[0m \u001b[0;32mnot\u001b[0m \u001b[0mgetattr\u001b[0m\u001b[0;34m(\u001b[0m\u001b[0mconn\u001b[0m\u001b[0;34m,\u001b[0m \u001b[0;34m\"sock\"\u001b[0m\u001b[0;34m,\u001b[0m \u001b[0;32mNone\u001b[0m\u001b[0;34m)\u001b[0m\u001b[0;34m:\u001b[0m  \u001b[0;31m# AppEngine might not have  `.sock`\u001b[0m\u001b[0;34m\u001b[0m\u001b[0;34m\u001b[0m\u001b[0m\n\u001b[0;32m--> 978\u001b[0;31m             \u001b[0mconn\u001b[0m\u001b[0;34m.\u001b[0m\u001b[0mconnect\u001b[0m\u001b[0;34m(\u001b[0m\u001b[0;34m)\u001b[0m\u001b[0;34m\u001b[0m\u001b[0;34m\u001b[0m\u001b[0m\n\u001b[0m\u001b[1;32m    979\u001b[0m \u001b[0;34m\u001b[0m\u001b[0m\n",
      "\u001b[0;32m~/anaconda3/lib/python3.8/site-packages/urllib3/connection.py\u001b[0m in \u001b[0;36mconnect\u001b[0;34m(self)\u001b[0m\n\u001b[1;32m    308\u001b[0m         \u001b[0;31m# Add certificate verification\u001b[0m\u001b[0;34m\u001b[0m\u001b[0;34m\u001b[0m\u001b[0;34m\u001b[0m\u001b[0m\n\u001b[0;32m--> 309\u001b[0;31m         \u001b[0mconn\u001b[0m \u001b[0;34m=\u001b[0m \u001b[0mself\u001b[0m\u001b[0;34m.\u001b[0m\u001b[0m_new_conn\u001b[0m\u001b[0;34m(\u001b[0m\u001b[0;34m)\u001b[0m\u001b[0;34m\u001b[0m\u001b[0;34m\u001b[0m\u001b[0m\n\u001b[0m\u001b[1;32m    310\u001b[0m         \u001b[0mhostname\u001b[0m \u001b[0;34m=\u001b[0m \u001b[0mself\u001b[0m\u001b[0;34m.\u001b[0m\u001b[0mhost\u001b[0m\u001b[0;34m\u001b[0m\u001b[0;34m\u001b[0m\u001b[0m\n",
      "\u001b[0;32m~/anaconda3/lib/python3.8/site-packages/urllib3/connection.py\u001b[0m in \u001b[0;36m_new_conn\u001b[0;34m(self)\u001b[0m\n\u001b[1;32m    170\u001b[0m         \u001b[0;32mexcept\u001b[0m \u001b[0mSocketError\u001b[0m \u001b[0;32mas\u001b[0m \u001b[0me\u001b[0m\u001b[0;34m:\u001b[0m\u001b[0;34m\u001b[0m\u001b[0;34m\u001b[0m\u001b[0m\n\u001b[0;32m--> 171\u001b[0;31m             raise NewConnectionError(\n\u001b[0m\u001b[1;32m    172\u001b[0m                 \u001b[0mself\u001b[0m\u001b[0;34m,\u001b[0m \u001b[0;34m\"Failed to establish a new connection: %s\"\u001b[0m \u001b[0;34m%\u001b[0m \u001b[0me\u001b[0m\u001b[0;34m\u001b[0m\u001b[0;34m\u001b[0m\u001b[0m\n",
      "\u001b[0;31mNewConnectionError\u001b[0m: <urllib3.connection.HTTPSConnection object at 0x7fd6984254f0>: Failed to establish a new connection: [Errno -3] Temporary failure in name resolution",
      "\nDuring handling of the above exception, another exception occurred:\n",
      "\u001b[0;31mMaxRetryError\u001b[0m                             Traceback (most recent call last)",
      "\u001b[0;32m~/anaconda3/lib/python3.8/site-packages/requests/adapters.py\u001b[0m in \u001b[0;36msend\u001b[0;34m(self, request, stream, timeout, verify, cert, proxies)\u001b[0m\n\u001b[1;32m    438\u001b[0m             \u001b[0;32mif\u001b[0m \u001b[0;32mnot\u001b[0m \u001b[0mchunked\u001b[0m\u001b[0;34m:\u001b[0m\u001b[0;34m\u001b[0m\u001b[0;34m\u001b[0m\u001b[0m\n\u001b[0;32m--> 439\u001b[0;31m                 resp = conn.urlopen(\n\u001b[0m\u001b[1;32m    440\u001b[0m                     \u001b[0mmethod\u001b[0m\u001b[0;34m=\u001b[0m\u001b[0mrequest\u001b[0m\u001b[0;34m.\u001b[0m\u001b[0mmethod\u001b[0m\u001b[0;34m,\u001b[0m\u001b[0;34m\u001b[0m\u001b[0;34m\u001b[0m\u001b[0m\n",
      "\u001b[0;32m~/anaconda3/lib/python3.8/site-packages/urllib3/connectionpool.py\u001b[0m in \u001b[0;36murlopen\u001b[0;34m(self, method, url, body, headers, retries, redirect, assert_same_host, timeout, pool_timeout, release_conn, chunked, body_pos, **response_kw)\u001b[0m\n\u001b[1;32m    725\u001b[0m \u001b[0;34m\u001b[0m\u001b[0m\n\u001b[0;32m--> 726\u001b[0;31m             retries = retries.increment(\n\u001b[0m\u001b[1;32m    727\u001b[0m                 \u001b[0mmethod\u001b[0m\u001b[0;34m,\u001b[0m \u001b[0murl\u001b[0m\u001b[0;34m,\u001b[0m \u001b[0merror\u001b[0m\u001b[0;34m=\u001b[0m\u001b[0me\u001b[0m\u001b[0;34m,\u001b[0m \u001b[0m_pool\u001b[0m\u001b[0;34m=\u001b[0m\u001b[0mself\u001b[0m\u001b[0;34m,\u001b[0m \u001b[0m_stacktrace\u001b[0m\u001b[0;34m=\u001b[0m\u001b[0msys\u001b[0m\u001b[0;34m.\u001b[0m\u001b[0mexc_info\u001b[0m\u001b[0;34m(\u001b[0m\u001b[0;34m)\u001b[0m\u001b[0;34m[\u001b[0m\u001b[0;36m2\u001b[0m\u001b[0;34m]\u001b[0m\u001b[0;34m\u001b[0m\u001b[0;34m\u001b[0m\u001b[0m\n",
      "\u001b[0;32m~/anaconda3/lib/python3.8/site-packages/urllib3/util/retry.py\u001b[0m in \u001b[0;36mincrement\u001b[0;34m(self, method, url, response, error, _pool, _stacktrace)\u001b[0m\n\u001b[1;32m    445\u001b[0m         \u001b[0;32mif\u001b[0m \u001b[0mnew_retry\u001b[0m\u001b[0;34m.\u001b[0m\u001b[0mis_exhausted\u001b[0m\u001b[0;34m(\u001b[0m\u001b[0;34m)\u001b[0m\u001b[0;34m:\u001b[0m\u001b[0;34m\u001b[0m\u001b[0;34m\u001b[0m\u001b[0m\n\u001b[0;32m--> 446\u001b[0;31m             \u001b[0;32mraise\u001b[0m \u001b[0mMaxRetryError\u001b[0m\u001b[0;34m(\u001b[0m\u001b[0m_pool\u001b[0m\u001b[0;34m,\u001b[0m \u001b[0murl\u001b[0m\u001b[0;34m,\u001b[0m \u001b[0merror\u001b[0m \u001b[0;32mor\u001b[0m \u001b[0mResponseError\u001b[0m\u001b[0;34m(\u001b[0m\u001b[0mcause\u001b[0m\u001b[0;34m)\u001b[0m\u001b[0;34m)\u001b[0m\u001b[0;34m\u001b[0m\u001b[0;34m\u001b[0m\u001b[0m\n\u001b[0m\u001b[1;32m    447\u001b[0m \u001b[0;34m\u001b[0m\u001b[0m\n",
      "\u001b[0;31mMaxRetryError\u001b[0m: HTTPSConnectionPool(host='developers.zomato.com', port=443): Max retries exceeded with url: /api/v2.1/reviews?res_id=18204820 (Caused by NewConnectionError('<urllib3.connection.HTTPSConnection object at 0x7fd6984254f0>: Failed to establish a new connection: [Errno -3] Temporary failure in name resolution'))",
      "\nDuring handling of the above exception, another exception occurred:\n",
      "\u001b[0;31mConnectionError\u001b[0m                           Traceback (most recent call last)",
      "\u001b[0;32m<ipython-input-131-95116e557327>\u001b[0m in \u001b[0;36m<module>\u001b[0;34m\u001b[0m\n\u001b[1;32m      2\u001b[0m \u001b[0;32mimport\u001b[0m \u001b[0mjson\u001b[0m\u001b[0;34m\u001b[0m\u001b[0;34m\u001b[0m\u001b[0m\n\u001b[1;32m      3\u001b[0m \u001b[0minfo\u001b[0m\u001b[0;34m=\u001b[0m\u001b[0;34m{\u001b[0m\u001b[0;34m'user-key'\u001b[0m\u001b[0;34m:\u001b[0m\u001b[0;34m'68a952b60155797d28def1585d888b9f'\u001b[0m\u001b[0;34m}\u001b[0m\u001b[0;34m\u001b[0m\u001b[0;34m\u001b[0m\u001b[0m\n\u001b[0;32m----> 4\u001b[0;31m \u001b[0mp\u001b[0m\u001b[0;34m=\u001b[0m\u001b[0mrequests\u001b[0m\u001b[0;34m.\u001b[0m\u001b[0mget\u001b[0m\u001b[0;34m(\u001b[0m\u001b[0;34m'https://developers.zomato.com/api/v2.1/reviews'\u001b[0m\u001b[0;34m,\u001b[0m\u001b[0mheaders\u001b[0m\u001b[0;34m=\u001b[0m\u001b[0minfo\u001b[0m\u001b[0;34m,\u001b[0m\u001b[0mparams\u001b[0m\u001b[0;34m=\u001b[0m\u001b[0;34m{\u001b[0m\u001b[0;34m'res_id'\u001b[0m\u001b[0;34m:\u001b[0m\u001b[0;36m18204820\u001b[0m\u001b[0;34m}\u001b[0m\u001b[0;34m)\u001b[0m\u001b[0;34m\u001b[0m\u001b[0;34m\u001b[0m\u001b[0m\n\u001b[0m\u001b[1;32m      5\u001b[0m \u001b[0mdata\u001b[0m\u001b[0;34m=\u001b[0m\u001b[0mp\u001b[0m\u001b[0;34m.\u001b[0m\u001b[0mjson\u001b[0m\u001b[0;34m(\u001b[0m\u001b[0;34m)\u001b[0m\u001b[0;34m\u001b[0m\u001b[0;34m\u001b[0m\u001b[0m\n\u001b[1;32m      6\u001b[0m \u001b[0mdata\u001b[0m\u001b[0;34m=\u001b[0m\u001b[0mdata\u001b[0m\u001b[0;34m[\u001b[0m\u001b[0;34m'user_reviews'\u001b[0m\u001b[0;34m]\u001b[0m\u001b[0;34m\u001b[0m\u001b[0;34m\u001b[0m\u001b[0m\n",
      "\u001b[0;32m~/anaconda3/lib/python3.8/site-packages/requests/api.py\u001b[0m in \u001b[0;36mget\u001b[0;34m(url, params, **kwargs)\u001b[0m\n\u001b[1;32m     74\u001b[0m \u001b[0;34m\u001b[0m\u001b[0m\n\u001b[1;32m     75\u001b[0m     \u001b[0mkwargs\u001b[0m\u001b[0;34m.\u001b[0m\u001b[0msetdefault\u001b[0m\u001b[0;34m(\u001b[0m\u001b[0;34m'allow_redirects'\u001b[0m\u001b[0;34m,\u001b[0m \u001b[0;32mTrue\u001b[0m\u001b[0;34m)\u001b[0m\u001b[0;34m\u001b[0m\u001b[0;34m\u001b[0m\u001b[0m\n\u001b[0;32m---> 76\u001b[0;31m     \u001b[0;32mreturn\u001b[0m \u001b[0mrequest\u001b[0m\u001b[0;34m(\u001b[0m\u001b[0;34m'get'\u001b[0m\u001b[0;34m,\u001b[0m \u001b[0murl\u001b[0m\u001b[0;34m,\u001b[0m \u001b[0mparams\u001b[0m\u001b[0;34m=\u001b[0m\u001b[0mparams\u001b[0m\u001b[0;34m,\u001b[0m \u001b[0;34m**\u001b[0m\u001b[0mkwargs\u001b[0m\u001b[0;34m)\u001b[0m\u001b[0;34m\u001b[0m\u001b[0;34m\u001b[0m\u001b[0m\n\u001b[0m\u001b[1;32m     77\u001b[0m \u001b[0;34m\u001b[0m\u001b[0m\n\u001b[1;32m     78\u001b[0m \u001b[0;34m\u001b[0m\u001b[0m\n",
      "\u001b[0;32m~/anaconda3/lib/python3.8/site-packages/requests/api.py\u001b[0m in \u001b[0;36mrequest\u001b[0;34m(method, url, **kwargs)\u001b[0m\n\u001b[1;32m     59\u001b[0m     \u001b[0;31m# cases, and look like a memory leak in others.\u001b[0m\u001b[0;34m\u001b[0m\u001b[0;34m\u001b[0m\u001b[0;34m\u001b[0m\u001b[0m\n\u001b[1;32m     60\u001b[0m     \u001b[0;32mwith\u001b[0m \u001b[0msessions\u001b[0m\u001b[0;34m.\u001b[0m\u001b[0mSession\u001b[0m\u001b[0;34m(\u001b[0m\u001b[0;34m)\u001b[0m \u001b[0;32mas\u001b[0m \u001b[0msession\u001b[0m\u001b[0;34m:\u001b[0m\u001b[0;34m\u001b[0m\u001b[0;34m\u001b[0m\u001b[0m\n\u001b[0;32m---> 61\u001b[0;31m         \u001b[0;32mreturn\u001b[0m \u001b[0msession\u001b[0m\u001b[0;34m.\u001b[0m\u001b[0mrequest\u001b[0m\u001b[0;34m(\u001b[0m\u001b[0mmethod\u001b[0m\u001b[0;34m=\u001b[0m\u001b[0mmethod\u001b[0m\u001b[0;34m,\u001b[0m \u001b[0murl\u001b[0m\u001b[0;34m=\u001b[0m\u001b[0murl\u001b[0m\u001b[0;34m,\u001b[0m \u001b[0;34m**\u001b[0m\u001b[0mkwargs\u001b[0m\u001b[0;34m)\u001b[0m\u001b[0;34m\u001b[0m\u001b[0;34m\u001b[0m\u001b[0m\n\u001b[0m\u001b[1;32m     62\u001b[0m \u001b[0;34m\u001b[0m\u001b[0m\n\u001b[1;32m     63\u001b[0m \u001b[0;34m\u001b[0m\u001b[0m\n",
      "\u001b[0;32m~/anaconda3/lib/python3.8/site-packages/requests/sessions.py\u001b[0m in \u001b[0;36mrequest\u001b[0;34m(self, method, url, params, data, headers, cookies, files, auth, timeout, allow_redirects, proxies, hooks, stream, verify, cert, json)\u001b[0m\n\u001b[1;32m    528\u001b[0m         }\n\u001b[1;32m    529\u001b[0m         \u001b[0msend_kwargs\u001b[0m\u001b[0;34m.\u001b[0m\u001b[0mupdate\u001b[0m\u001b[0;34m(\u001b[0m\u001b[0msettings\u001b[0m\u001b[0;34m)\u001b[0m\u001b[0;34m\u001b[0m\u001b[0;34m\u001b[0m\u001b[0m\n\u001b[0;32m--> 530\u001b[0;31m         \u001b[0mresp\u001b[0m \u001b[0;34m=\u001b[0m \u001b[0mself\u001b[0m\u001b[0;34m.\u001b[0m\u001b[0msend\u001b[0m\u001b[0;34m(\u001b[0m\u001b[0mprep\u001b[0m\u001b[0;34m,\u001b[0m \u001b[0;34m**\u001b[0m\u001b[0msend_kwargs\u001b[0m\u001b[0;34m)\u001b[0m\u001b[0;34m\u001b[0m\u001b[0;34m\u001b[0m\u001b[0m\n\u001b[0m\u001b[1;32m    531\u001b[0m \u001b[0;34m\u001b[0m\u001b[0m\n\u001b[1;32m    532\u001b[0m         \u001b[0;32mreturn\u001b[0m \u001b[0mresp\u001b[0m\u001b[0;34m\u001b[0m\u001b[0;34m\u001b[0m\u001b[0m\n",
      "\u001b[0;32m~/anaconda3/lib/python3.8/site-packages/requests/sessions.py\u001b[0m in \u001b[0;36msend\u001b[0;34m(self, request, **kwargs)\u001b[0m\n\u001b[1;32m    641\u001b[0m \u001b[0;34m\u001b[0m\u001b[0m\n\u001b[1;32m    642\u001b[0m         \u001b[0;31m# Send the request\u001b[0m\u001b[0;34m\u001b[0m\u001b[0;34m\u001b[0m\u001b[0;34m\u001b[0m\u001b[0m\n\u001b[0;32m--> 643\u001b[0;31m         \u001b[0mr\u001b[0m \u001b[0;34m=\u001b[0m \u001b[0madapter\u001b[0m\u001b[0;34m.\u001b[0m\u001b[0msend\u001b[0m\u001b[0;34m(\u001b[0m\u001b[0mrequest\u001b[0m\u001b[0;34m,\u001b[0m \u001b[0;34m**\u001b[0m\u001b[0mkwargs\u001b[0m\u001b[0;34m)\u001b[0m\u001b[0;34m\u001b[0m\u001b[0;34m\u001b[0m\u001b[0m\n\u001b[0m\u001b[1;32m    644\u001b[0m \u001b[0;34m\u001b[0m\u001b[0m\n\u001b[1;32m    645\u001b[0m         \u001b[0;31m# Total elapsed time of the request (approximately)\u001b[0m\u001b[0;34m\u001b[0m\u001b[0;34m\u001b[0m\u001b[0;34m\u001b[0m\u001b[0m\n",
      "\u001b[0;32m~/anaconda3/lib/python3.8/site-packages/requests/adapters.py\u001b[0m in \u001b[0;36msend\u001b[0;34m(self, request, stream, timeout, verify, cert, proxies)\u001b[0m\n\u001b[1;32m    514\u001b[0m                 \u001b[0;32mraise\u001b[0m \u001b[0mSSLError\u001b[0m\u001b[0;34m(\u001b[0m\u001b[0me\u001b[0m\u001b[0;34m,\u001b[0m \u001b[0mrequest\u001b[0m\u001b[0;34m=\u001b[0m\u001b[0mrequest\u001b[0m\u001b[0;34m)\u001b[0m\u001b[0;34m\u001b[0m\u001b[0;34m\u001b[0m\u001b[0m\n\u001b[1;32m    515\u001b[0m \u001b[0;34m\u001b[0m\u001b[0m\n\u001b[0;32m--> 516\u001b[0;31m             \u001b[0;32mraise\u001b[0m \u001b[0mConnectionError\u001b[0m\u001b[0;34m(\u001b[0m\u001b[0me\u001b[0m\u001b[0;34m,\u001b[0m \u001b[0mrequest\u001b[0m\u001b[0;34m=\u001b[0m\u001b[0mrequest\u001b[0m\u001b[0;34m)\u001b[0m\u001b[0;34m\u001b[0m\u001b[0;34m\u001b[0m\u001b[0m\n\u001b[0m\u001b[1;32m    517\u001b[0m \u001b[0;34m\u001b[0m\u001b[0m\n\u001b[1;32m    518\u001b[0m         \u001b[0;32mexcept\u001b[0m \u001b[0mClosedPoolError\u001b[0m \u001b[0;32mas\u001b[0m \u001b[0me\u001b[0m\u001b[0;34m:\u001b[0m\u001b[0;34m\u001b[0m\u001b[0;34m\u001b[0m\u001b[0m\n",
      "\u001b[0;31mConnectionError\u001b[0m: HTTPSConnectionPool(host='developers.zomato.com', port=443): Max retries exceeded with url: /api/v2.1/reviews?res_id=18204820 (Caused by NewConnectionError('<urllib3.connection.HTTPSConnection object at 0x7fd6984254f0>: Failed to establish a new connection: [Errno -3] Temporary failure in name resolution'))"
     ]
    }
   ],
   "source": [
    "import requests\n",
    "import json\n",
    "info={'user-key':'68a952b60155797d28def1585d888b9f'}\n",
    "p=requests.get('https://developers.zomato.com/api/v2.1/reviews',headers=info,params={'res_id':18204820})\n",
    "data=p.json()\n",
    "data=data['user_reviews']\n",
    "for i in data:\n",
    "    print(i['review']['user']['name'],end=' ')\n",
    "    print(i['review']['rating'],end=' ')\n",
    "    print(i['review']['review_text'])"
   ]
  },
  {
   "cell_type": "code",
   "execution_count": null,
   "metadata": {},
   "outputs": [],
   "source": []
  },
  {
   "cell_type": "code",
   "execution_count": null,
   "metadata": {},
   "outputs": [],
   "source": []
  }
 ],
 "metadata": {
  "kernelspec": {
   "display_name": "Python 3",
   "language": "python",
   "name": "python3"
  },
  "language_info": {
   "codemirror_mode": {
    "name": "ipython",
    "version": 3
   },
   "file_extension": ".py",
   "mimetype": "text/x-python",
   "name": "python",
   "nbconvert_exporter": "python",
   "pygments_lexer": "ipython3",
   "version": "3.8.5"
  }
 },
 "nbformat": 4,
 "nbformat_minor": 4
}
