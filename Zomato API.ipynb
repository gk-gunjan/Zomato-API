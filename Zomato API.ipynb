{
 "cells": [
  {
   "cell_type": "markdown",
   "metadata": {},
   "source": [
    "### ASSIGNMENTS ON ZOMATO API - I    (Date:14/03/2021)\n",
    "#### Zomato APIs give you access to the freshest and most exhaustive information for over 1.5 million restaurants across 10,000 cities globally.\n",
    "##### Our Motivation for using Zomato API\n",
    "\n",
    "By Collecting the data using Zomato API one can recommend restaurants on the basis of user’s affinity to specific cuisines, establishment types, locations, and price bands.\n",
    "We can find out whether restaurant support online reservation or not.\n",
    "We can find what is the most popular and/ or exclusive/new at a given location & time.\n"
   ]
  },
  {
   "cell_type": "markdown",
   "metadata": {},
   "source": [
    "#### Zomato Cuisine 1.1\n",
    "\n",
    "Fetch the cuisine_id of ‘Mexican’ cuisine using Zomato API.\n",
    "Print the cuisine_id."
   ]
  },
  {
   "cell_type": "code",
   "execution_count": 1,
   "metadata": {},
   "outputs": [],
   "source": [
    "import requests\n",
    "import json"
   ]
  },
  {
   "cell_type": "code",
   "execution_count": 16,
   "metadata": {},
   "outputs": [
    {
     "name": "stdout",
     "output_type": "stream",
     "text": [
      "73\n"
     ]
    }
   ],
   "source": [
    "info={'user-key':'68a952b60155797d28def1585d888b9f'}\n",
    "data={'user-key':'68a952b60155797d28def1585d888b9f','city_id':1}\n",
    "p=requests.get('https://developers.zomato.com/api/v2.1/cuisines',headers=info,params=data)\n",
    "data=p.json()\n",
    "file=data['cuisines']\n",
    "for i in file:\n",
    "    if i['cuisine']['cuisine_name']=='Mexican':\n",
    "        print(i['cuisine']['cuisine_id'])"
   ]
  },
  {
   "cell_type": "markdown",
   "metadata": {},
   "source": [
    "#### Zomato Cuisine 1.3\n",
    "\n",
    "Fetch the entityid and entitytype of place Connaught Place.\n",
    "Print the entityid and entitytype,"
   ]
  },
  {
   "cell_type": "code",
   "execution_count": 60,
   "metadata": {},
   "outputs": [
    {
     "name": "stdout",
     "output_type": "stream",
     "text": [
      "subzone 104\n"
     ]
    }
   ],
   "source": [
    "import requests\n",
    "import json\n",
    "info={'user-key':'68a952b60155797d28def1585d888b9f'}\n",
    "data={'user-key':'68a952b60155797d28def1585d888b9f','query':'Connaught Place'}\n",
    "p=requests.get('https://developers.zomato.com/api/v2.1/locations',headers=info,params=data)\n",
    "file=p.json()\n",
    "o=file['location_suggestions']\n",
    "for i in o:\n",
    "    print(i['entity_type'],i['entity_id'])"
   ]
  },
  {
   "cell_type": "code",
   "execution_count": 24,
   "metadata": {},
   "outputs": [
    {
     "name": "stdout",
     "output_type": "stream",
     "text": [
      "subzone 104\n"
     ]
    }
   ],
   "source": [
    "info={'user-key':'68a952b60155797d28def1585d888b9f'}\n",
    "data={'user-key':'68a952b60155797d28def1585d888b9f','query':'Connaught Place'}\n",
    "p=requests.get('https://developers.zomato.com/api/v2.1/locations',headers=info,params=data)\n",
    "file=p.json()\n",
    "o=file['location_suggestions']\n",
    "for i in o:\n",
    "    print(i['entity_type'],i['entity_id'])"
   ]
  },
  {
   "cell_type": "markdown",
   "metadata": {},
   "source": [
    "#### Zomato Cuisine 1.4\n",
    "\n",
    "Fetch the top 10 best-rated restaurant serving ‘Mexican’ cuisine present in Connaught Place.\n",
    "Print the restaurant name, user rating and restaurant id."
   ]
  },
  {
   "cell_type": "code",
   "execution_count": 27,
   "metadata": {},
   "outputs": [],
   "source": [
    "import requests\n",
    "import json"
   ]
  },
  {
   "cell_type": "code",
   "execution_count": 58,
   "metadata": {},
   "outputs": [
    {
     "name": "stdout",
     "output_type": "stream",
     "text": [
      "Station Bar 4.5 18851371\n",
      "Xero Degrees 4.4 18729557\n",
      "Master Of Malts 4.4 18391149\n",
      "Chili's Grill & Bar 4.4 18537536\n",
      "Tamasha 4.3 18238278\n",
      "Local 4.3 18382360\n",
      "The Darzi Bar & Kitchen 4.3 18423151\n",
      "The Junkyard Cafe 4.3 313256\n",
      "Ministry Of Beer 4.3 18418277\n",
      "Teddy Boy 4.3 18281985\n"
     ]
    }
   ],
   "source": [
    "info={'user-key':'68a952b60155797d28def1585d888b9f'}\n",
    "p=requests.get('https://developers.zomato.com/api/v2.1/search',headers=info,\n",
    "               params={'cuisines':73,'entity_id':104,'entity_type':'subzone','sort':'rating','count':10})\n",
    "data=p.json()\n",
    "d1=data['restaurants']\n",
    "for i in d1:\n",
    "    print(i['restaurant']['name'],end=' ')\n",
    "    print(i['restaurant']['user_rating']['aggregate_rating'],end=' ')\n",
    "    print(i['restaurant']['R']['res_id'])"
   ]
  },
  {
   "cell_type": "markdown",
   "metadata": {},
   "source": [
    "#### Zomato Cuisine 1.5\n",
    "\n",
    "Fetch the category id of category type ‘Cafes’ using Zomato API.\n",
    "Print the category_id."
   ]
  },
  {
   "cell_type": "code",
   "execution_count": null,
   "metadata": {},
   "outputs": [],
   "source": [
    "import requests\n",
    "import json"
   ]
  },
  {
   "cell_type": "code",
   "execution_count": 71,
   "metadata": {},
   "outputs": [
    {
     "name": "stdout",
     "output_type": "stream",
     "text": [
      "6\n"
     ]
    },
    {
     "data": {
      "text/plain": [
       "[{'categories': {'id': 1, 'name': 'Delivery'}},\n",
       " {'categories': {'id': 2, 'name': 'Dine-out'}},\n",
       " {'categories': {'id': 3, 'name': 'Nightlife'}},\n",
       " {'categories': {'id': 4, 'name': 'Catching-up'}},\n",
       " {'categories': {'id': 5, 'name': 'Takeaway'}},\n",
       " {'categories': {'id': 6, 'name': 'Cafes'}},\n",
       " {'categories': {'id': 7, 'name': 'Daily Menus'}},\n",
       " {'categories': {'id': 8, 'name': 'Breakfast'}},\n",
       " {'categories': {'id': 9, 'name': 'Lunch'}},\n",
       " {'categories': {'id': 10, 'name': 'Dinner'}},\n",
       " {'categories': {'id': 11, 'name': 'Pubs & Bars'}},\n",
       " {'categories': {'id': 13, 'name': 'Pocket Friendly Delivery'}},\n",
       " {'categories': {'id': 14, 'name': 'Clubs & Lounges'}}]"
      ]
     },
     "execution_count": 71,
     "metadata": {},
     "output_type": "execute_result"
    }
   ],
   "source": [
    "info={'user-key':'68a952b60155797d28def1585d888b9f'}\n",
    "p=requests.get('https://developers.zomato.com/api/v2.1/categories',headers=info)\n",
    "data=p.json()\n",
    "data=data['categories']\n",
    "for i in data:\n",
    "    if i['categories']['name']=='Cafes':\n",
    "        print(i['categories']['id'])\n",
    "data"
   ]
  },
  {
   "cell_type": "markdown",
   "metadata": {},
   "source": [
    "#### Zomato Cuisine 1.6\n",
    "\n",
    "Fetch the best-rated restaurant for ‘Mexican’ cuisine with category type ‘ Cafes’ present in Connaught Place using Zomato API.\n",
    "Print the restaurant name, user rating and restaurant id."
   ]
  },
  {
   "cell_type": "code",
   "execution_count": 68,
   "metadata": {},
   "outputs": [],
   "source": [
    "import requests\n",
    "import json"
   ]
  },
  {
   "cell_type": "code",
   "execution_count": 75,
   "metadata": {},
   "outputs": [
    {
     "name": "stdout",
     "output_type": "stream",
     "text": [
      "Xero Degrees 4.4 18729557\n",
      "Chaayos - Meri Wali Chai 4.2 18237315\n",
      "The Art House Bar n Cafe 3.9 18863766\n",
      "Cafe Coffee Day - The Square 3.6 303034\n"
     ]
    }
   ],
   "source": [
    "info={'user-key':'68a952b60155797d28def1585d888b9f'}\n",
    "p=requests.get('https://developers.zomato.com/api/v2.1/search',headers=info,\n",
    "               params={'cuisines':73,'entity_id':104,'entity_type':'subzone','category':6,'sort':'rating'})\n",
    "data=p.json()\n",
    "d1=data['restaurants']\n",
    "for i in d1:\n",
    "    print(i['restaurant']['name'],end=' ')\n",
    "    print(i['restaurant']['user_rating']['aggregate_rating'],end=' ')\n",
    "    print(i['restaurant']['R']['res_id'])"
   ]
  },
  {
   "cell_type": "markdown",
   "metadata": {},
   "source": [
    "#### Zomato Cuisine 1.7\n",
    "\n",
    "Fetch the latest review of the best-rated restaurant for ‘Mexican’ cuisine with Category type ‘Cafes’ present in Connaught Place using Zomato API.\n",
    "Print the name of user ,user rating and review text.\n",
    "\n",
    "Note :\n",
    "Due to limitation of basic API plan it, can only fetch 5 latest review"
   ]
  },
  {
   "cell_type": "code",
   "execution_count": 81,
   "metadata": {},
   "outputs": [],
   "source": [
    "import requests\n",
    "import json"
   ]
  },
  {
   "cell_type": "code",
   "execution_count": 80,
   "metadata": {},
   "outputs": [
    {
     "name": "stdout",
     "output_type": "stream",
     "text": [
      "Vagish 5 \n",
      "Rachita Garg 3 Quantity very less as compared to the cost. Earlier it was not so\n",
      "Ankit Gola 5 \n",
      "Hina Suhail 5 \n",
      "Rakesh 5 Recently visited this place with my friends and i really enjoyed the day.   Ambience was really nice and took all guidelines and maintained hygiene..   We ordered Chicken wings, paneer makhani pizza, lferdo pasta, Grill, sandwiches and ed velvet thick shake, Nutella thick shake....   Both were beautifully presented and taste was also fantastic. and it was fantastic in taste. I totally loved all things. I would like to give them lots of thanks for their amazing services and fantastic place.\n"
     ]
    }
   ],
   "source": [
    "info={'user-key':'68a952b60155797d28def1585d888b9f'}\n",
    "p=requests.get('https://developers.zomato.com/api/v2.1/reviews',headers=info\n",
    ",params={'res_id':18729557})\n",
    "data=p.json()\n",
    "data=data['user_reviews']\n",
    "for i in data:\n",
    "    print(i['review']['user']['name'],end=' ')\n",
    "    print(i['review']['rating'],end=' ')\n",
    "    print(i['review']['review_text'])"
   ]
  },
  {
   "cell_type": "code",
   "execution_count": 82,
   "metadata": {},
   "outputs": [
    {
     "data": {
      "text/plain": [
       "[{'restaurant': {'R': {'res_id': 18729557,\n",
       "    'is_grocery_store': False,\n",
       "    'has_menu_status': {'delivery': -1, 'takeaway': -1}},\n",
       "   'apikey': '68a952b60155797d28def1585d888b9f',\n",
       "   'id': '18729557',\n",
       "   'name': 'Xero Degrees',\n",
       "   'url': 'https://www.zomato.com/ncr/xero-degrees-connaught-place-new-delhi?utm_source=api_basic_user&utm_medium=api&utm_campaign=v2.1',\n",
       "   'location': {'address': 'L-23/9, Middle Circle, Connaught Place, New Delhi',\n",
       "    'locality': 'Connaught Place',\n",
       "    'city': 'New Delhi',\n",
       "    'city_id': 1,\n",
       "    'latitude': '28.6343423500',\n",
       "    'longitude': '77.2213641600',\n",
       "    'zipcode': '',\n",
       "    'country_id': 1,\n",
       "    'locality_verbose': 'Connaught Place, New Delhi'},\n",
       "   'switch_to_order_menu': 0,\n",
       "   'cuisines': 'Cafe, Pizza, Burger, Beverages, Italian, Desserts',\n",
       "   'timings': '12:30PM to 11PM (Mon-Sun)',\n",
       "   'average_cost_for_two': 750,\n",
       "   'price_range': 2,\n",
       "   'currency': 'Rs.',\n",
       "   'highlights': ['Dinner',\n",
       "    'Cash',\n",
       "    'Takeaway Available',\n",
       "    'Debit Card',\n",
       "    'Lunch',\n",
       "    'Delivery',\n",
       "    'Credit Card',\n",
       "    'Indoor Seating',\n",
       "    'Air Conditioned'],\n",
       "   'offers': [],\n",
       "   'opentable_support': 0,\n",
       "   'is_zomato_book_res': 0,\n",
       "   'mezzo_provider': 'OTHER',\n",
       "   'is_book_form_web_view': 0,\n",
       "   'book_form_web_view_url': '',\n",
       "   'book_again_url': '',\n",
       "   'thumb': 'https://b.zmtcdn.com/data/pictures/7/18729557/f2fae77cf85b0230a05b3c25b3bf40c3.jpg?fit=around%7C200%3A200&crop=200%3A200%3B%2A%2C%2A',\n",
       "   'user_rating': {'aggregate_rating': '4.4',\n",
       "    'rating_text': 'Very Good',\n",
       "    'rating_color': '5BA829',\n",
       "    'rating_obj': {'title': {'text': '4.4'},\n",
       "     'bg_color': {'type': 'lime', 'tint': '700'}},\n",
       "    'votes': 2462},\n",
       "   'all_reviews_count': 1516,\n",
       "   'photos_url': 'https://www.zomato.com/ncr/xero-degrees-connaught-place-new-delhi/photos?utm_source=api_basic_user&utm_medium=api&utm_campaign=v2.1#tabtop',\n",
       "   'photo_count': 3223,\n",
       "   'menu_url': 'https://www.zomato.com/ncr/xero-degrees-connaught-place-new-delhi/menu?utm_source=api_basic_user&utm_medium=api&utm_campaign=v2.1&openSwipeBox=menu&showMinimal=1#tabtop',\n",
       "   'featured_image': 'https://b.zmtcdn.com/data/pictures/7/18729557/f2fae77cf85b0230a05b3c25b3bf40c3.jpg?output-format=webp',\n",
       "   'medio_provider': False,\n",
       "   'has_online_delivery': 1,\n",
       "   'is_delivering_now': 0,\n",
       "   'store_type': '',\n",
       "   'include_bogo_offers': True,\n",
       "   'deeplink': 'zomato://restaurant/18729557',\n",
       "   'is_table_reservation_supported': 0,\n",
       "   'has_table_booking': 0,\n",
       "   'events_url': 'https://www.zomato.com/ncr/xero-degrees-connaught-place-new-delhi/events#tabtop?utm_source=api_basic_user&utm_medium=api&utm_campaign=v2.1',\n",
       "   'phone_numbers': '+91 9045333586',\n",
       "   'all_reviews': {'reviews': [{'review': []},\n",
       "     {'review': []},\n",
       "     {'review': []},\n",
       "     {'review': []},\n",
       "     {'review': []}]},\n",
       "   'establishment': ['Café'],\n",
       "   'establishment_types': []}},\n",
       " {'restaurant': {'R': {'res_id': 18237315,\n",
       "    'is_grocery_store': False,\n",
       "    'has_menu_status': {'delivery': -1, 'takeaway': -1}},\n",
       "   'apikey': '68a952b60155797d28def1585d888b9f',\n",
       "   'id': '18237315',\n",
       "   'name': 'Chaayos - Meri Wali Chai',\n",
       "   'url': 'https://www.zomato.com/ncr/chaayos-meri-wali-chai-connaught-place-new-delhi?utm_source=api_basic_user&utm_medium=api&utm_campaign=v2.1',\n",
       "   'location': {'address': 'F-14/15, 1st Floor, Mezzanine, F Block, Inner Circle, Connaught Place, New Delhi',\n",
       "    'locality': 'Connaught Place',\n",
       "    'city': 'New Delhi',\n",
       "    'city_id': 1,\n",
       "    'latitude': '28.6316291400',\n",
       "    'longitude': '77.2203204400',\n",
       "    'zipcode': '110001',\n",
       "    'country_id': 1,\n",
       "    'locality_verbose': 'Connaught Place, New Delhi'},\n",
       "   'switch_to_order_menu': 0,\n",
       "   'cuisines': 'Cafe, Beverages, Fast Food, Desserts, Street Food, Tea',\n",
       "   'timings': '8 AM to 11 PM',\n",
       "   'average_cost_for_two': 700,\n",
       "   'price_range': 2,\n",
       "   'currency': 'Rs.',\n",
       "   'highlights': ['Dinner',\n",
       "    'Delivery',\n",
       "    'Credit Card',\n",
       "    'Debit Card',\n",
       "    'Lunch',\n",
       "    'Seating Available',\n",
       "    'Cash',\n",
       "    'Takeaway Available',\n",
       "    'Breakfast',\n",
       "    'Indoor Seating',\n",
       "    'Air Conditioned',\n",
       "    'Desserts and Bakes'],\n",
       "   'offers': [],\n",
       "   'opentable_support': 0,\n",
       "   'is_zomato_book_res': 0,\n",
       "   'mezzo_provider': 'OTHER',\n",
       "   'is_book_form_web_view': 0,\n",
       "   'book_form_web_view_url': '',\n",
       "   'book_again_url': '',\n",
       "   'thumb': '',\n",
       "   'user_rating': {'aggregate_rating': '4.2',\n",
       "    'rating_text': 'Very Good',\n",
       "    'rating_color': '5BA829',\n",
       "    'rating_obj': {'title': {'text': '4.2'},\n",
       "     'bg_color': {'type': 'lime', 'tint': '700'}},\n",
       "    'votes': 6733},\n",
       "   'all_reviews_count': 1267,\n",
       "   'photos_url': 'https://www.zomato.com/ncr/chaayos-meri-wali-chai-connaught-place-new-delhi/photos?utm_source=api_basic_user&utm_medium=api&utm_campaign=v2.1#tabtop',\n",
       "   'photo_count': 3231,\n",
       "   'menu_url': 'https://www.zomato.com/ncr/chaayos-meri-wali-chai-connaught-place-new-delhi/menu?utm_source=api_basic_user&utm_medium=api&utm_campaign=v2.1&openSwipeBox=menu&showMinimal=1#tabtop',\n",
       "   'featured_image': '',\n",
       "   'medio_provider': False,\n",
       "   'has_online_delivery': 1,\n",
       "   'is_delivering_now': 0,\n",
       "   'store_type': '',\n",
       "   'include_bogo_offers': True,\n",
       "   'deeplink': 'zomato://restaurant/18237315',\n",
       "   'is_table_reservation_supported': 0,\n",
       "   'has_table_booking': 0,\n",
       "   'events_url': 'https://www.zomato.com/ncr/chaayos-meri-wali-chai-connaught-place-new-delhi/events#tabtop?utm_source=api_basic_user&utm_medium=api&utm_campaign=v2.1',\n",
       "   'phone_numbers': '18001202424, +91 9599598307',\n",
       "   'all_reviews': {'reviews': [{'review': []},\n",
       "     {'review': []},\n",
       "     {'review': []},\n",
       "     {'review': []},\n",
       "     {'review': []}]},\n",
       "   'establishment': ['Café'],\n",
       "   'establishment_types': []}},\n",
       " {'restaurant': {'R': {'res_id': 18863766,\n",
       "    'is_grocery_store': False,\n",
       "    'has_menu_status': {'delivery': -1, 'takeaway': -1}},\n",
       "   'apikey': '68a952b60155797d28def1585d888b9f',\n",
       "   'id': '18863766',\n",
       "   'name': 'The Art House Bar n Cafe',\n",
       "   'url': 'https://www.zomato.com/ncr/the-art-house-bar-n-cafe-connaught-place-new-delhi?utm_source=api_basic_user&utm_medium=api&utm_campaign=v2.1',\n",
       "   'location': {'address': 'N 35, Ground Floor, Connaught Circus, Block N, Connaught Place, New Delhi',\n",
       "    'locality': 'Connaught Place',\n",
       "    'city': 'New Delhi',\n",
       "    'city_id': 1,\n",
       "    'latitude': '28.6304231800',\n",
       "    'longitude': '77.2212836900',\n",
       "    'zipcode': '110001',\n",
       "    'country_id': 1,\n",
       "    'locality_verbose': 'Connaught Place, New Delhi'},\n",
       "   'switch_to_order_menu': 0,\n",
       "   'cuisines': 'Cafe, Continental, Kebab, Asian, North Indian, Fast Food, Beverages',\n",
       "   'timings': '11am – 11pm (Mon-Thu),11am – 12midnight (Fri-Sun)',\n",
       "   'average_cost_for_two': 1800,\n",
       "   'price_range': 3,\n",
       "   'currency': 'Rs.',\n",
       "   'highlights': ['Lunch',\n",
       "    'Cash',\n",
       "    'Takeaway Available',\n",
       "    'Debit Card',\n",
       "    'Dinner',\n",
       "    'Delivery',\n",
       "    'Credit Card',\n",
       "    'Fullbar',\n",
       "    'Digital Payments Accepted',\n",
       "    'Indoor Seating',\n",
       "    'Air Conditioned'],\n",
       "   'offers': [],\n",
       "   'opentable_support': 0,\n",
       "   'is_zomato_book_res': 1,\n",
       "   'mezzo_provider': 'ZOMATO_BOOK',\n",
       "   'is_book_form_web_view': 0,\n",
       "   'book_form_web_view_url': '',\n",
       "   'thumb': 'https://b.zmtcdn.com/data/pictures/6/18863766/5e057fa7e0010c34eb08b36bc0e63e2e.jpeg?fit=around%7C200%3A200&crop=200%3A200%3B%2A%2C%2A',\n",
       "   'user_rating': {'aggregate_rating': '3.9',\n",
       "    'rating_text': 'Good',\n",
       "    'rating_color': '9ACD32',\n",
       "    'rating_obj': {'title': {'text': '3.9'},\n",
       "     'bg_color': {'type': 'lime', 'tint': '600'}},\n",
       "    'votes': 897},\n",
       "   'all_reviews_count': 685,\n",
       "   'photos_url': 'https://www.zomato.com/ncr/the-art-house-bar-n-cafe-connaught-place-new-delhi/photos?utm_source=api_basic_user&utm_medium=api&utm_campaign=v2.1#tabtop',\n",
       "   'photo_count': 582,\n",
       "   'menu_url': 'https://www.zomato.com/ncr/the-art-house-bar-n-cafe-connaught-place-new-delhi/menu?utm_source=api_basic_user&utm_medium=api&utm_campaign=v2.1&openSwipeBox=menu&showMinimal=1#tabtop',\n",
       "   'featured_image': 'https://b.zmtcdn.com/data/pictures/6/18863766/5e057fa7e0010c34eb08b36bc0e63e2e.jpeg',\n",
       "   'medio_provider': '',\n",
       "   'has_online_delivery': 1,\n",
       "   'is_delivering_now': 0,\n",
       "   'store_type': '',\n",
       "   'include_bogo_offers': True,\n",
       "   'deeplink': 'zomato://restaurant/18863766',\n",
       "   'is_table_reservation_supported': 1,\n",
       "   'has_table_booking': 1,\n",
       "   'book_url': 'https://www.zomato.com/ncr/the-art-house-bar-n-cafe-connaught-place-new-delhi/book?utm_source=api_basic_user&utm_medium=api&utm_campaign=v2.1',\n",
       "   'events_url': 'https://www.zomato.com/ncr/the-art-house-bar-n-cafe-connaught-place-new-delhi/events#tabtop?utm_source=api_basic_user&utm_medium=api&utm_campaign=v2.1',\n",
       "   'phone_numbers': '+91 9811176773, 011 47000885, +91 9811852233',\n",
       "   'all_reviews': {'reviews': [{'review': []},\n",
       "     {'review': []},\n",
       "     {'review': []},\n",
       "     {'review': []},\n",
       "     {'review': []}]},\n",
       "   'establishment': ['Café'],\n",
       "   'establishment_types': []}},\n",
       " {'restaurant': {'R': {'res_id': 303034,\n",
       "    'is_grocery_store': False,\n",
       "    'has_menu_status': {'delivery': -1, 'takeaway': -1}},\n",
       "   'apikey': '68a952b60155797d28def1585d888b9f',\n",
       "   'id': '303034',\n",
       "   'name': 'Cafe Coffee Day - The Square',\n",
       "   'url': 'https://www.zomato.com/ncr/cafe-coffee-day-the-square-connaught-place-new-delhi?utm_source=api_basic_user&utm_medium=api&utm_campaign=v2.1',\n",
       "   'location': {'address': 'C 14, Connaught Place, New Delhi',\n",
       "    'locality': 'Connaught Place',\n",
       "    'city': 'New Delhi',\n",
       "    'city_id': 1,\n",
       "    'latitude': '28.6341654900',\n",
       "    'longitude': '77.2203073700',\n",
       "    'zipcode': '',\n",
       "    'country_id': 1,\n",
       "    'locality_verbose': 'Connaught Place, New Delhi'},\n",
       "   'switch_to_order_menu': 0,\n",
       "   'cuisines': 'Cafe, Beverages, Sandwich, Fast Food, Desserts',\n",
       "   'timings': '10 AM to 11 PM',\n",
       "   'average_cost_for_two': 700,\n",
       "   'price_range': 2,\n",
       "   'currency': 'Rs.',\n",
       "   'highlights': ['Dinner',\n",
       "    'Delivery',\n",
       "    'Credit Card',\n",
       "    'Debit Card',\n",
       "    'Lunch',\n",
       "    'Cash',\n",
       "    'Takeaway Available',\n",
       "    'Breakfast',\n",
       "    'Indoor Seating',\n",
       "    'Air Conditioned',\n",
       "    'Digital Payments Accepted'],\n",
       "   'offers': [],\n",
       "   'opentable_support': 0,\n",
       "   'is_zomato_book_res': 0,\n",
       "   'mezzo_provider': 'OTHER',\n",
       "   'is_book_form_web_view': 0,\n",
       "   'book_form_web_view_url': '',\n",
       "   'book_again_url': '',\n",
       "   'thumb': 'https://b.zmtcdn.com/data/pictures/chains/3/593/54cb0da593bc5501e2b31b050ae0cc7b.jpg?fit=around%7C200%3A200&crop=200%3A200%3B%2A%2C%2A',\n",
       "   'user_rating': {'aggregate_rating': '3.6',\n",
       "    'rating_text': 'Good',\n",
       "    'rating_color': '9ACD32',\n",
       "    'rating_obj': {'title': {'text': '3.6'},\n",
       "     'bg_color': {'type': 'lime', 'tint': '600'}},\n",
       "    'votes': 553},\n",
       "   'all_reviews_count': 396,\n",
       "   'photos_url': 'https://www.zomato.com/ncr/cafe-coffee-day-the-square-connaught-place-new-delhi/photos?utm_source=api_basic_user&utm_medium=api&utm_campaign=v2.1#tabtop',\n",
       "   'photo_count': 635,\n",
       "   'menu_url': 'https://www.zomato.com/ncr/cafe-coffee-day-the-square-connaught-place-new-delhi/menu?utm_source=api_basic_user&utm_medium=api&utm_campaign=v2.1&openSwipeBox=menu&showMinimal=1#tabtop',\n",
       "   'featured_image': 'https://b.zmtcdn.com/data/pictures/chains/3/593/54cb0da593bc5501e2b31b050ae0cc7b.jpg',\n",
       "   'medio_provider': False,\n",
       "   'has_online_delivery': 0,\n",
       "   'is_delivering_now': 0,\n",
       "   'store_type': '',\n",
       "   'include_bogo_offers': True,\n",
       "   'deeplink': 'zomato://restaurant/303034',\n",
       "   'is_table_reservation_supported': 0,\n",
       "   'has_table_booking': 0,\n",
       "   'events_url': 'https://www.zomato.com/ncr/cafe-coffee-day-the-square-connaught-place-new-delhi/events#tabtop?utm_source=api_basic_user&utm_medium=api&utm_campaign=v2.1',\n",
       "   'phone_numbers': '18001025093',\n",
       "   'all_reviews': {'reviews': [{'review': []},\n",
       "     {'review': []},\n",
       "     {'review': []},\n",
       "     {'review': []},\n",
       "     {'review': []}]},\n",
       "   'establishment': ['Café'],\n",
       "   'establishment_types': []}}]"
      ]
     },
     "execution_count": 82,
     "metadata": {},
     "output_type": "execute_result"
    }
   ],
   "source": [
    "d1"
   ]
  },
  {
   "cell_type": "code",
   "execution_count": null,
   "metadata": {},
   "outputs": [],
   "source": []
  }
 ],
 "metadata": {
  "kernelspec": {
   "display_name": "Python 3",
   "language": "python",
   "name": "python3"
  },
  "language_info": {
   "codemirror_mode": {
    "name": "ipython",
    "version": 3
   },
   "file_extension": ".py",
   "mimetype": "text/x-python",
   "name": "python",
   "nbconvert_exporter": "python",
   "pygments_lexer": "ipython3",
   "version": "3.8.5"
  }
 },
 "nbformat": 4,
 "nbformat_minor": 4
}
