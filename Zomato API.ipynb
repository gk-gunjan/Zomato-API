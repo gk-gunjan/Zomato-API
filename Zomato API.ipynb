{
 "cells": [
  {
   "cell_type": "markdown",
   "metadata": {},
   "source": [
    "#### Zomato Cuisine 1.1\n",
    "\n",
    "Fetch the cuisine_id of ‘Mexican’ cuisine using Zomato API.\n",
    "Print the cuisine_id."
   ]
  },
  {
   "cell_type": "code",
   "execution_count": 1,
   "metadata": {},
   "outputs": [],
   "source": [
    "import requests\n",
    "import json"
   ]
  },
  {
   "cell_type": "code",
   "execution_count": 16,
   "metadata": {},
   "outputs": [
    {
     "name": "stdout",
     "output_type": "stream",
     "text": [
      "73\n"
     ]
    }
   ],
   "source": [
    "info={'user-key':'68a952b60155797d28def1585d888b9f'}\n",
    "data={'user-key':'68a952b60155797d28def1585d888b9f','city_id':1}\n",
    "p=requests.get('https://developers.zomato.com/api/v2.1/cuisines',headers=info,params=data)\n",
    "data=p.json()\n",
    "file=data['cuisines']\n",
    "for i in file:\n",
    "    if i['cuisine']['cuisine_name']=='Mexican':\n",
    "        print(i['cuisine']['cuisine_id'])"
   ]
  },
  {
   "cell_type": "markdown",
   "metadata": {},
   "source": [
    "#### Zomato Cuisine 1.3\n",
    "\n",
    "Fetch the entityid and entitytype of place Connaught Place.\n",
    "Print the entityid and entitytype,"
   ]
  },
  {
   "cell_type": "code",
   "execution_count": 60,
   "metadata": {},
   "outputs": [
    {
     "name": "stdout",
     "output_type": "stream",
     "text": [
      "subzone 104\n"
     ]
    }
   ],
   "source": [
    "import requests\n",
    "import json\n",
    "info={'user-key':'68a952b60155797d28def1585d888b9f'}\n",
    "data={'user-key':'68a952b60155797d28def1585d888b9f','query':'Connaught Place'}\n",
    "p=requests.get('https://developers.zomato.com/api/v2.1/locations',headers=info,params=data)\n",
    "file=p.json()\n",
    "o=file['location_suggestions']\n",
    "for i in o:\n",
    "    print(i['entity_type'],i['entity_id'])"
   ]
  },
  {
   "cell_type": "code",
   "execution_count": 24,
   "metadata": {},
   "outputs": [
    {
     "name": "stdout",
     "output_type": "stream",
     "text": [
      "subzone 104\n"
     ]
    }
   ],
   "source": [
    "info={'user-key':'68a952b60155797d28def1585d888b9f'}\n",
    "data={'user-key':'68a952b60155797d28def1585d888b9f','query':'Connaught Place'}\n",
    "p=requests.get('https://developers.zomato.com/api/v2.1/locations',headers=info,params=data)\n",
    "file=p.json()\n",
    "o=file['location_suggestions']\n",
    "for i in o:\n",
    "    print(i['entity_type'],i['entity_id'])"
   ]
  },
  {
   "cell_type": "markdown",
   "metadata": {},
   "source": [
    "#### Zomato Cuisine 1.4\n",
    "\n",
    "Fetch the top 10 best-rated restaurant serving ‘Mexican’ cuisine present in Connaught Place.\n",
    "Print the restaurant name, user rating and restaurant id."
   ]
  },
  {
   "cell_type": "code",
   "execution_count": 27,
   "metadata": {},
   "outputs": [],
   "source": [
    "import requests\n",
    "import json"
   ]
  },
  {
   "cell_type": "code",
   "execution_count": 58,
   "metadata": {},
   "outputs": [
    {
     "name": "stdout",
     "output_type": "stream",
     "text": [
      "Station Bar 4.5 18851371\n",
      "Xero Degrees 4.4 18729557\n",
      "Master Of Malts 4.4 18391149\n",
      "Chili's Grill & Bar 4.4 18537536\n",
      "Tamasha 4.3 18238278\n",
      "Local 4.3 18382360\n",
      "The Darzi Bar & Kitchen 4.3 18423151\n",
      "The Junkyard Cafe 4.3 313256\n",
      "Ministry Of Beer 4.3 18418277\n",
      "Teddy Boy 4.3 18281985\n"
     ]
    }
   ],
   "source": [
    "info={'user-key':'68a952b60155797d28def1585d888b9f'}\n",
    "p=requests.get('https://developers.zomato.com/api/v2.1/search',headers=info,\n",
    "               params={'cuisines':73,'entity_id':104,'entity_type':'subzone','sort':'rating','count':10})\n",
    "data=p.json()\n",
    "d1=data['restaurants']\n",
    "for i in d1:\n",
    "    print(i['restaurant']['name'],end=' ')\n",
    "    print(i['restaurant']['user_rating']['aggregate_rating'],end=' ')\n",
    "    print(i['restaurant']['R']['res_id'])"
   ]
  },
  {
   "cell_type": "code",
   "execution_count": null,
   "metadata": {},
   "outputs": [],
   "source": []
  },
  {
   "cell_type": "code",
   "execution_count": null,
   "metadata": {},
   "outputs": [],
   "source": []
  },
  {
   "cell_type": "code",
   "execution_count": null,
   "metadata": {},
   "outputs": [],
   "source": []
  }
 ],
 "metadata": {
  "kernelspec": {
   "display_name": "Python 3",
   "language": "python",
   "name": "python3"
  },
  "language_info": {
   "codemirror_mode": {
    "name": "ipython",
    "version": 3
   },
   "file_extension": ".py",
   "mimetype": "text/x-python",
   "name": "python",
   "nbconvert_exporter": "python",
   "pygments_lexer": "ipython3",
   "version": "3.8.5"
  }
 },
 "nbformat": 4,
 "nbformat_minor": 4
}
