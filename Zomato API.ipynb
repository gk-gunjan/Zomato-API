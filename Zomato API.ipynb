{
 "cells": [
  {
   "cell_type": "markdown",
   "metadata": {},
   "source": [
    "#### Zomato Cuisine 1.1\n",
    "\n",
    "Fetch the cuisine_id of ‘Mexican’ cuisine using Zomato API.\n",
    "Print the cuisine_id."
   ]
  },
  {
   "cell_type": "code",
   "execution_count": 1,
   "metadata": {},
   "outputs": [],
   "source": [
    "import requests\n",
    "import json"
   ]
  },
  {
   "cell_type": "code",
   "execution_count": 16,
   "metadata": {},
   "outputs": [
    {
     "name": "stdout",
     "output_type": "stream",
     "text": [
      "73\n"
     ]
    }
   ],
   "source": [
    "info={'user-key':'68a952b60155797d28def1585d888b9f'}\n",
    "data={'user-key':'68a952b60155797d28def1585d888b9f','city_id':1}\n",
    "p=requests.get('https://developers.zomato.com/api/v2.1/cuisines',headers=info,params=data)\n",
    "data=p.json()\n",
    "file=data['cuisines']\n",
    "for i in file:\n",
    "    if i['cuisine']['cuisine_name']=='Mexican':\n",
    "        print(i['cuisine']['cuisine_id'])"
   ]
  },
  {
   "cell_type": "markdown",
   "metadata": {},
   "source": [
    "#### Zomato Cuisine 1.3\n",
    "\n",
    "Fetch the entityid and entitytype of place Connaught Place.\n",
    "Print the entityid and entitytype,"
   ]
  },
  {
   "cell_type": "code",
   "execution_count": 26,
   "metadata": {},
   "outputs": [],
   "source": [
    "import requests\n",
    "import jsoninfo={'user-key':'68a952b60155797d28def1585d888b9f'}\n",
    "data={'user-key':'68a952b60155797d28def1585d888b9f','query':'Connaught Place'}\n",
    "p=requests.get('https://developers.zomato.com/api/v2.1/locations',headers=info,params=data)\n",
    "file=p.json()\n",
    "o=file['location_suggestions']\n",
    "for i in o:\n",
    "    print(i['entity_type'],i['entity_id'])"
   ]
  },
  {
   "cell_type": "code",
   "execution_count": 24,
   "metadata": {},
   "outputs": [
    {
     "name": "stdout",
     "output_type": "stream",
     "text": [
      "subzone 104\n"
     ]
    }
   ],
   "source": [
    "info={'user-key':'68a952b60155797d28def1585d888b9f'}\n",
    "data={'user-key':'68a952b60155797d28def1585d888b9f','query':'Connaught Place'}\n",
    "p=requests.get('https://developers.zomato.com/api/v2.1/locations',headers=info,params=data)\n",
    "file=p.json()\n",
    "o=file['location_suggestions']\n",
    "for i in o:\n",
    "    print(i['entity_type'],i['entity_id'])"
   ]
  },
  {
   "cell_type": "markdown",
   "metadata": {},
   "source": [
    "#### Zomato Cuisine 1.4\n",
    "\n",
    "Fetch the top 10 best-rated restaurant serving ‘Mexican’ cuisine present in Connaught Place.\n",
    "Print the restaurant name, user rating and restaurant id."
   ]
  },
  {
   "cell_type": "code",
   "execution_count": 27,
   "metadata": {},
   "outputs": [],
   "source": [
    "import requests\n",
    "import json"
   ]
  },
  {
   "cell_type": "code",
   "execution_count": 46,
   "metadata": {},
   "outputs": [
    {
     "data": {
      "text/plain": [
       "{'location_suggestions': [{'entity_type': 'subzone',\n",
       "   'entity_id': 104,\n",
       "   'title': 'Connaught Place, New Delhi',\n",
       "   'latitude': 28.632832,\n",
       "   'longitude': 77.219688,\n",
       "   'city_id': 1,\n",
       "   'city_name': 'Delhi NCR',\n",
       "   'country_id': 1,\n",
       "   'country_name': 'India'},\n",
       "  {'entity_type': 'group',\n",
       "   'entity_id': 3350,\n",
       "   'title': 'Connaught Place, Bund Garden Road, Pune',\n",
       "   'latitude': 18.5350765983,\n",
       "   'longitude': 73.8802493736,\n",
       "   'city_id': 5,\n",
       "   'city_name': 'Pune',\n",
       "   'country_id': 1,\n",
       "   'country_name': 'India'},\n",
       "  {'entity_type': 'group',\n",
       "   'entity_id': 31729,\n",
       "   'title': 'Connaught Plaza, Richmond, Metro Vancouver',\n",
       "   'latitude': 49.178185,\n",
       "   'longitude': -123.129403,\n",
       "   'city_id': 256,\n",
       "   'city_name': 'Metro Vancouver',\n",
       "   'country_id': 37,\n",
       "   'country_name': 'Canada'},\n",
       "  {'entity_type': 'group',\n",
       "   'entity_id': 5,\n",
       "   'title': 'The Metropolitan Hotel & Spa, Connaught Place, Delhi NCR',\n",
       "   'latitude': 28.6311394571,\n",
       "   'longitude': 77.2083520889,\n",
       "   'city_id': 1,\n",
       "   'city_name': 'Delhi NCR',\n",
       "   'country_id': 1,\n",
       "   'country_name': 'India'},\n",
       "  {'entity_type': 'group',\n",
       "   'entity_id': 8,\n",
       "   'title': 'Radisson Blu, Connaught Place, Delhi NCR',\n",
       "   'latitude': 28.63411546,\n",
       "   'longitude': 77.21721947,\n",
       "   'city_id': 1,\n",
       "   'city_name': 'Delhi NCR',\n",
       "   'country_id': 1,\n",
       "   'country_name': 'India'},\n",
       "  {'entity_type': 'group',\n",
       "   'entity_id': 20,\n",
       "   'title': 'The Park, Connaught Place, Delhi NCR',\n",
       "   'latitude': 28.62885818,\n",
       "   'longitude': 77.21635982,\n",
       "   'city_id': 1,\n",
       "   'city_name': 'Delhi NCR',\n",
       "   'country_id': 1,\n",
       "   'country_name': 'India'},\n",
       "  {'entity_type': 'group',\n",
       "   'entity_id': 24,\n",
       "   'title': \"Shangri-La's - Eros Hotel, Connaught Place, Delhi NCR\",\n",
       "   'latitude': 28.62110523,\n",
       "   'longitude': 77.21695695,\n",
       "   'city_id': 1,\n",
       "   'city_name': 'Delhi NCR',\n",
       "   'country_id': 1,\n",
       "   'country_name': 'India'},\n",
       "  {'entity_type': 'group',\n",
       "   'entity_id': 647,\n",
       "   'title': 'The Hans, Connaught Place, Delhi NCR',\n",
       "   'latitude': 28.6282993276,\n",
       "   'longitude': 77.226035893,\n",
       "   'city_id': 1,\n",
       "   'city_name': 'Delhi NCR',\n",
       "   'country_id': 1,\n",
       "   'country_name': 'India'},\n",
       "  {'entity_type': 'group',\n",
       "   'entity_id': 935,\n",
       "   'title': 'Hotel Alka Classic, Connaught Place, Delhi NCR',\n",
       "   'latitude': 28.63239632,\n",
       "   'longitude': 77.21656501,\n",
       "   'city_id': 1,\n",
       "   'city_name': 'Delhi NCR',\n",
       "   'country_id': 1,\n",
       "   'country_name': 'India'},\n",
       "  {'entity_type': 'group',\n",
       "   'entity_id': 936,\n",
       "   'title': 'The Connaught, New Delhi, Connaught Place, Delhi NCR',\n",
       "   'latitude': 28.6327978182,\n",
       "   'longitude': 77.213181621,\n",
       "   'city_id': 1,\n",
       "   'city_name': 'Delhi NCR',\n",
       "   'country_id': 1,\n",
       "   'country_name': 'India'}],\n",
       " 'status': 'success',\n",
       " 'has_more': 0,\n",
       " 'has_total': 0,\n",
       " 'user_has_addresses': True}"
      ]
     },
     "execution_count": 46,
     "metadata": {},
     "output_type": "execute_result"
    }
   ],
   "source": [
    "info={'user-key':'68a952b60155797d28def1585d888b9f'}\n",
    "p=requests.get('https://developers.zomato.com/api/v2.1/locations',headers=info,params={'query':'Connaught Place','count':10})\n",
    "data=p.json()\n",
    "data"
   ]
  },
  {
   "cell_type": "code",
   "execution_count": null,
   "metadata": {},
   "outputs": [],
   "source": [
    "import json\n",
    "import requests\n",
    "header={'Accept': 'application/json', 'user-key': 'f3f7015d6d6567621c5086766efa3825'}\n",
    "param={'entity_id':'104','entity_type':'subzone','cuisines':'73','count':'10','sort':'rating'}\n",
    "response=requests.get('https://developers.zomato.com/api/v2.1/search',params=param,headers=header)\n",
    "data=response.json()\n",
    "for i in data['restaurants']:\n",
    "    print(i['restaurant']['name'], float(i['restaurant']['user_rating']['aggregate_rating']), i['restaurant']['R']['res_id'])"
   ]
  }
 ],
 "metadata": {
  "kernelspec": {
   "display_name": "Python 3",
   "language": "python",
   "name": "python3"
  },
  "language_info": {
   "codemirror_mode": {
    "name": "ipython",
    "version": 3
   },
   "file_extension": ".py",
   "mimetype": "text/x-python",
   "name": "python",
   "nbconvert_exporter": "python",
   "pygments_lexer": "ipython3",
   "version": "3.8.5"
  }
 },
 "nbformat": 4,
 "nbformat_minor": 4
}
